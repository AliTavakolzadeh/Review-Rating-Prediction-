{
 "cells": [
  {
   "cell_type": "code",
   "execution_count": 1,
   "metadata": {},
   "outputs": [],
   "source": [
    "#https://github.com/p-wojciechowski/review-rating-prediction/blob/main/notebooks/model_selection.ipynb"
   ]
  },
  {
   "cell_type": "code",
   "execution_count": 2,
   "metadata": {},
   "outputs": [],
   "source": [
    "import numpy as np\n",
    "import pandas as pd\n",
    "import pickle\n"
   ]
  },
  {
   "cell_type": "code",
   "execution_count": 3,
   "metadata": {},
   "outputs": [],
   "source": [
    "def balance_dataframe(df, category=['Rating']):\n",
    "    \"\"\"\n",
    "    :param df: pandas.DataFrame\n",
    "    :param categorical_columns: iterable of categorical columns names contained in {df}\n",
    "    :return: balanced pandas.DataFrame\n",
    "    \"\"\"    \n",
    "    if category is None or not all([col in df.columns for col in category]):\n",
    "        raise ValueError('Please provide one or more columns containing categorical variables')\n",
    "\n",
    "    lowest_count = (df.groupby(category).apply(lambda x: x.shape[0]).min())\n",
    "#    lowest_count =250\n",
    "    df = df.groupby(category).apply( \n",
    "        lambda x: x.sample(lowest_count)).drop(category, axis=1).reset_index().set_index('level_1')\n",
    "\n",
    "    df.sort_index(inplace=True)\n",
    "\n",
    "    return df"
   ]
  },
  {
   "cell_type": "code",
   "execution_count": 4,
   "metadata": {},
   "outputs": [],
   "source": [
    "df_reviews = pd.read_csv(\"Train.csv\")"
   ]
  },
  {
   "cell_type": "code",
   "execution_count": 5,
   "metadata": {},
   "outputs": [
    {
     "data": {
      "text/plain": [
       "<matplotlib.axes._subplots.AxesSubplot at 0x12917a52f88>"
      ]
     },
     "execution_count": 5,
     "metadata": {},
     "output_type": "execute_result"
    },
    {
     "data": {
      "image/png": "[encoded data removed]",
      "text/plain": [
       "<Figure size 432x288 with 1 Axes>"
      ]
     },
     "metadata": {
      "needs_background": "light"
     },
     "output_type": "display_data"
    }
   ],
   "source": [
    "df_reviews['Rating'].value_counts().plot.bar()"
   ]
  },
  {
   "cell_type": "code",
   "execution_count": 6,
   "metadata": {},
   "outputs": [
    {
     "name": "stdout",
     "output_type": "stream",
     "text": [
      "(pre) 1 star ratings: 20880\n",
      "(pre) 2 star ratings: 30752\n",
      "(pre) 3 star ratings: 90393\n",
      "(pre) 4 star ratings: 241721\n",
      "(pre) 5 star ratings: 557002\n",
      "######AFTER#####\n",
      "(post) 1 star ratings: 20880\n",
      "(post) 2 star ratings: 20880\n",
      "(post) 3 star ratings: 20880\n",
      "(post) 4 star ratings: 20880\n",
      "(post) 5 star ratings: 20880\n"
     ]
    }
   ],
   "source": [
    "\n",
    "df_reviews['len'] = df_reviews.reviewText.str.len()\n",
    "\n",
    "df_reviews = df_reviews[df_reviews['len'].between(10, 4000)]\n",
    "df_reviews[['Rating']] = df_reviews[['Rating']].apply(pd.to_numeric)\n",
    "\n",
    "print(\"(pre) 1 star ratings: %d\" % (len(df_reviews[df_reviews.Rating == 1])))\n",
    "print(\"(pre) 2 star ratings: %d\" % (len(df_reviews[df_reviews.Rating == 2])))\n",
    "print(\"(pre) 3 star ratings: %d\" % (len(df_reviews[df_reviews.Rating == 3])))\n",
    "print(\"(pre) 4 star ratings: %d\" % (len(df_reviews[df_reviews.Rating== 4])))\n",
    "print(\"(pre) 5 star ratings: %d\" % (len(df_reviews[df_reviews.Rating == 5])))\n",
    "print(\"######AFTER#####\")\n",
    "df_balanced = balance_dataframe(df_reviews, \n",
    "                                category=['Rating'])\n",
    "\n",
    "df_balanced.to_csv('balanced.csv', encoding='utf-8')\n",
    "print(\"(post) 1 star ratings: %d\" % (len(df_balanced[df_balanced.Rating == 1])))\n",
    "print(\"(post) 2 star ratings: %d\" % (len(df_balanced[df_balanced.Rating == 2])))\n",
    "print(\"(post) 3 star ratings: %d\" % (len(df_balanced[df_balanced.Rating == 3])))\n",
    "print(\"(post) 4 star ratings: %d\" % (len(df_balanced[df_balanced.Rating == 4])))\n",
    "print(\"(post) 5 star ratings: %d\" % (len(df_balanced[df_balanced.Rating == 5])))"
   ]
  },
  {
   "cell_type": "code",
   "execution_count": 7,
   "metadata": {},
   "outputs": [
    {
     "data": {
      "text/plain": [
       "<matplotlib.axes._subplots.AxesSubplot at 0x12919f2fa08>"
      ]
     },
     "execution_count": 7,
     "metadata": {},
     "output_type": "execute_result"
    },
    {
     "data": {
      "image/png": "[encoded data removed]",
      "text/plain": [
       "<Figure size 432x288 with 1 Axes>"
      ]
     },
     "metadata": {
      "needs_background": "light"
     },
     "output_type": "display_data"
    }
   ],
   "source": [
    "df_balanced['Rating'].value_counts().plot.bar()"
   ]
  },
  {
   "cell_type": "code",
   "execution_count": 8,
   "metadata": {},
   "outputs": [],
   "source": [
    "del  df_reviews,df_balanced"
   ]
  },
  {
   "cell_type": "code",
   "execution_count": 9,
   "metadata": {},
   "outputs": [
    {
     "name": "stderr",
     "output_type": "stream",
     "text": [
      "C:\\Users\\alita\\anaconda3\\lib\\site-packages\\tensorboard\\compat\\tensorflow_stub\\dtypes.py:541: FutureWarning: Passing (type, 1) or '1type' as a synonym of type is deprecated; in a future version of numpy, it will be understood as (type, (1,)) / '(1,)type'.\n",
      "  _np_qint8 = np.dtype([(\"qint8\", np.int8, 1)])\n",
      "C:\\Users\\alita\\anaconda3\\lib\\site-packages\\tensorboard\\compat\\tensorflow_stub\\dtypes.py:542: FutureWarning: Passing (type, 1) or '1type' as a synonym of type is deprecated; in a future version of numpy, it will be understood as (type, (1,)) / '(1,)type'.\n",
      "  _np_quint8 = np.dtype([(\"quint8\", np.uint8, 1)])\n",
      "C:\\Users\\alita\\anaconda3\\lib\\site-packages\\tensorboard\\compat\\tensorflow_stub\\dtypes.py:543: FutureWarning: Passing (type, 1) or '1type' as a synonym of type is deprecated; in a future version of numpy, it will be understood as (type, (1,)) / '(1,)type'.\n",
      "  _np_qint16 = np.dtype([(\"qint16\", np.int16, 1)])\n",
      "C:\\Users\\alita\\anaconda3\\lib\\site-packages\\tensorboard\\compat\\tensorflow_stub\\dtypes.py:544: FutureWarning: Passing (type, 1) or '1type' as a synonym of type is deprecated; in a future version of numpy, it will be understood as (type, (1,)) / '(1,)type'.\n",
      "  _np_quint16 = np.dtype([(\"quint16\", np.uint16, 1)])\n",
      "C:\\Users\\alita\\anaconda3\\lib\\site-packages\\tensorboard\\compat\\tensorflow_stub\\dtypes.py:545: FutureWarning: Passing (type, 1) or '1type' as a synonym of type is deprecated; in a future version of numpy, it will be understood as (type, (1,)) / '(1,)type'.\n",
      "  _np_qint32 = np.dtype([(\"qint32\", np.int32, 1)])\n",
      "C:\\Users\\alita\\anaconda3\\lib\\site-packages\\tensorboard\\compat\\tensorflow_stub\\dtypes.py:550: FutureWarning: Passing (type, 1) or '1type' as a synonym of type is deprecated; in a future version of numpy, it will be understood as (type, (1,)) / '(1,)type'.\n",
      "  np_resource = np.dtype([(\"resource\", np.ubyte, 1)])\n",
      "[nltk_data] Downloading package stopwords to\n",
      "[nltk_data]     C:\\Users\\alita\\AppData\\Roaming\\nltk_data...\n",
      "[nltk_data]   Package stopwords is already up-to-date!\n"
     ]
    }
   ],
   "source": [
    "import pandas as pd\n",
    "import numpy as np\n",
    "import matplotlib.pyplot as plt\n",
    "import seaborn as sns\n",
    "import tensorflow as tf\n",
    "import re\n",
    "import nltk\n",
    "nltk.download('stopwords')\n",
    "from nltk.corpus import stopwords"
   ]
  },
  {
   "cell_type": "markdown",
   "metadata": {},
   "source": [
    "\n",
    "# EDA\n",
    "In this part, we will make some basic insights into the dataset. First, let's see the structure of dataset. There are 20491 hotel reviews together with ratings (scale from 1 to 5) that were given along with the reviews. Most of them are reviews with ratings \"4\" and \"5\"."
   ]
  },
  {
   "cell_type": "code",
   "execution_count": 10,
   "metadata": {},
   "outputs": [
    {
     "data": {
      "text/html": [
       "<div>\n",
       "<style scoped>\n",
       "    .dataframe tbody tr th:only-of-type {\n",
       "        vertical-align: middle;\n",
       "    }\n",
       "\n",
       "    .dataframe tbody tr th {\n",
       "        vertical-align: top;\n",
       "    }\n",
       "\n",
       "    .dataframe thead th {\n",
       "        text-align: right;\n",
       "    }\n",
       "</style>\n",
       "<table border=\"1\" class=\"dataframe\">\n",
       "  <thead>\n",
       "    <tr style=\"text-align: right;\">\n",
       "      <th></th>\n",
       "      <th>level_1</th>\n",
       "      <th>Rating</th>\n",
       "      <th>ProductID</th>\n",
       "      <th>reviewText</th>\n",
       "      <th>reviewTime</th>\n",
       "      <th>reviewerID</th>\n",
       "      <th>summary</th>\n",
       "      <th>len</th>\n",
       "    </tr>\n",
       "  </thead>\n",
       "  <tbody>\n",
       "    <tr>\n",
       "      <th>0</th>\n",
       "      <td>4</td>\n",
       "      <td>5</td>\n",
       "      <td>B008O8ARTO</td>\n",
       "      <td>As soon as I'm on the edge of my seat, it's ov...</td>\n",
       "      <td>24-Mar-45</td>\n",
       "      <td>A27HTFG0450FR0</td>\n",
       "      <td>I like these stories</td>\n",
       "      <td>97.0</td>\n",
       "    </tr>\n",
       "    <tr>\n",
       "      <th>1</th>\n",
       "      <td>8</td>\n",
       "      <td>3</td>\n",
       "      <td>B0060M8GYY</td>\n",
       "      <td>I would probably only give it 2 1/2, my kindle...</td>\n",
       "      <td>18-Jun-46</td>\n",
       "      <td>A30X55GM6RO1XJ</td>\n",
       "      <td>Strange...</td>\n",
       "      <td>137.0</td>\n",
       "    </tr>\n",
       "    <tr>\n",
       "      <th>2</th>\n",
       "      <td>29</td>\n",
       "      <td>1</td>\n",
       "      <td>B00EURJ910</td>\n",
       "      <td>This book was so slow that I just couldn't get...</td>\n",
       "      <td>21-Mar-46</td>\n",
       "      <td>A1YI8ILV6V4YVH</td>\n",
       "      <td>Boring!</td>\n",
       "      <td>174.0</td>\n",
       "    </tr>\n",
       "    <tr>\n",
       "      <th>3</th>\n",
       "      <td>62</td>\n",
       "      <td>5</td>\n",
       "      <td>B006PL9ZPY</td>\n",
       "      <td>Read it and think...  Another hit from Blake -...</td>\n",
       "      <td>30-Mar-44</td>\n",
       "      <td>A2RBO5M9NZL9P7</td>\n",
       "      <td>Read!</td>\n",
       "      <td>160.0</td>\n",
       "    </tr>\n",
       "    <tr>\n",
       "      <th>4</th>\n",
       "      <td>74</td>\n",
       "      <td>2</td>\n",
       "      <td>B00JOV928C</td>\n",
       "      <td>Sorry to say but the author has no clue about ...</td>\n",
       "      <td>21-Nov-47</td>\n",
       "      <td>A3U4IV4EYH30H6</td>\n",
       "      <td>what army is this</td>\n",
       "      <td>147.0</td>\n",
       "    </tr>\n",
       "    <tr>\n",
       "      <th>...</th>\n",
       "      <td>...</td>\n",
       "      <td>...</td>\n",
       "      <td>...</td>\n",
       "      <td>...</td>\n",
       "      <td>...</td>\n",
       "      <td>...</td>\n",
       "      <td>...</td>\n",
       "      <td>...</td>\n",
       "    </tr>\n",
       "    <tr>\n",
       "      <th>104395</th>\n",
       "      <td>946970</td>\n",
       "      <td>2</td>\n",
       "      <td>B00FLZKDYW</td>\n",
       "      <td>SPOILERSI feel bad saying this since I liked t...</td>\n",
       "      <td>26-Aug-45</td>\n",
       "      <td>A2RKBKVSL9XJER</td>\n",
       "      <td>Crushed....!!!! ATTENTION SPOILERS!!!!</td>\n",
       "      <td>832.0</td>\n",
       "    </tr>\n",
       "    <tr>\n",
       "      <th>104396</th>\n",
       "      <td>946979</td>\n",
       "      <td>2</td>\n",
       "      <td>B006NQKVOA</td>\n",
       "      <td>Cat has managed to escape from a powerful drug...</td>\n",
       "      <td>20-Feb-44</td>\n",
       "      <td>A3SD7HEWV98GZV</td>\n",
       "      <td>Too choppy</td>\n",
       "      <td>2107.0</td>\n",
       "    </tr>\n",
       "    <tr>\n",
       "      <th>104397</th>\n",
       "      <td>947015</td>\n",
       "      <td>1</td>\n",
       "      <td>B006T3P1TM</td>\n",
       "      <td>This book was awful. First off if I ever heard...</td>\n",
       "      <td>26-Aug-45</td>\n",
       "      <td>A8DEIUNJYJG2H</td>\n",
       "      <td>This is a sorry excuse for Christian writting.</td>\n",
       "      <td>597.0</td>\n",
       "    </tr>\n",
       "    <tr>\n",
       "      <th>104398</th>\n",
       "      <td>947019</td>\n",
       "      <td>2</td>\n",
       "      <td>B00A15SPPQ</td>\n",
       "      <td>I got lost so many times in this book which in...</td>\n",
       "      <td>23-May-48</td>\n",
       "      <td>A25DA2MY42IEKI</td>\n",
       "      <td>How To Ask The Universe to MAnifest Your Dreams?</td>\n",
       "      <td>237.0</td>\n",
       "    </tr>\n",
       "    <tr>\n",
       "      <th>104399</th>\n",
       "      <td>947021</td>\n",
       "      <td>2</td>\n",
       "      <td>B004SHES4U</td>\n",
       "      <td>Similes oh my, Simile me to death. i had to st...</td>\n",
       "      <td>21-Jun-45</td>\n",
       "      <td>A2MZ8TXGPG607T</td>\n",
       "      <td>Hard to read</td>\n",
       "      <td>123.0</td>\n",
       "    </tr>\n",
       "  </tbody>\n",
       "</table>\n",
       "<p>104400 rows × 8 columns</p>\n",
       "</div>"
      ],
      "text/plain": [
       "        level_1  Rating   ProductID  \\\n",
       "0             4       5  B008O8ARTO   \n",
       "1             8       3  B0060M8GYY   \n",
       "2            29       1  B00EURJ910   \n",
       "3            62       5  B006PL9ZPY   \n",
       "4            74       2  B00JOV928C   \n",
       "...         ...     ...         ...   \n",
       "104395   946970       2  B00FLZKDYW   \n",
       "104396   946979       2  B006NQKVOA   \n",
       "104397   947015       1  B006T3P1TM   \n",
       "104398   947019       2  B00A15SPPQ   \n",
       "104399   947021       2  B004SHES4U   \n",
       "\n",
       "                                               reviewText reviewTime  \\\n",
       "0       As soon as I'm on the edge of my seat, it's ov...  24-Mar-45   \n",
       "1       I would probably only give it 2 1/2, my kindle...  18-Jun-46   \n",
       "2       This book was so slow that I just couldn't get...  21-Mar-46   \n",
       "3       Read it and think...  Another hit from Blake -...  30-Mar-44   \n",
       "4       Sorry to say but the author has no clue about ...  21-Nov-47   \n",
       "...                                                   ...        ...   \n",
       "104395  SPOILERSI feel bad saying this since I liked t...  26-Aug-45   \n",
       "104396  Cat has managed to escape from a powerful drug...  20-Feb-44   \n",
       "104397  This book was awful. First off if I ever heard...  26-Aug-45   \n",
       "104398  I got lost so many times in this book which in...  23-May-48   \n",
       "104399  Similes oh my, Simile me to death. i had to st...  21-Jun-45   \n",
       "\n",
       "            reviewerID                                           summary  \\\n",
       "0       A27HTFG0450FR0                              I like these stories   \n",
       "1       A30X55GM6RO1XJ                                        Strange...   \n",
       "2       A1YI8ILV6V4YVH                                           Boring!   \n",
       "3       A2RBO5M9NZL9P7                                             Read!   \n",
       "4       A3U4IV4EYH30H6                                 what army is this   \n",
       "...                ...                                               ...   \n",
       "104395  A2RKBKVSL9XJER            Crushed....!!!! ATTENTION SPOILERS!!!!   \n",
       "104396  A3SD7HEWV98GZV                                        Too choppy   \n",
       "104397   A8DEIUNJYJG2H    This is a sorry excuse for Christian writting.   \n",
       "104398  A25DA2MY42IEKI  How To Ask The Universe to MAnifest Your Dreams?   \n",
       "104399  A2MZ8TXGPG607T                                      Hard to read   \n",
       "\n",
       "           len  \n",
       "0         97.0  \n",
       "1        137.0  \n",
       "2        174.0  \n",
       "3        160.0  \n",
       "4        147.0  \n",
       "...        ...  \n",
       "104395   832.0  \n",
       "104396  2107.0  \n",
       "104397   597.0  \n",
       "104398   237.0  \n",
       "104399   123.0  \n",
       "\n",
       "[104400 rows x 8 columns]"
      ]
     },
     "execution_count": 10,
     "metadata": {},
     "output_type": "execute_result"
    }
   ],
   "source": [
    "raw = pd.read_csv('balanced.csv')\n",
    "df = raw.copy()\n",
    "raw"
   ]
  },
  {
   "cell_type": "code",
   "execution_count": 11,
   "metadata": {},
   "outputs": [
    {
     "name": "stdout",
     "output_type": "stream",
     "text": [
      "Rating\n",
      "1    0.2\n",
      "2    0.2\n",
      "3    0.2\n",
      "4    0.2\n",
      "5    0.2\n",
      "Name: Rating, dtype: float64\n"
     ]
    },
    {
     "data": {
      "image/png": "[encoded data removed]",
      "text/plain": [
       "<Figure size 432x288 with 1 Axes>"
      ]
     },
     "metadata": {
      "needs_background": "light"
     },
     "output_type": "display_data"
    }
   ],
   "source": [
    "print(raw.groupby('Rating')['Rating'].count()/raw.shape[0])\n",
    "sns.countplot(x='Rating', data=raw)\n",
    "plt.show()"
   ]
  },
  {
   "cell_type": "markdown",
   "metadata": {},
   "source": [
    "\n",
    "After preprocessing let's see the reviews' length (number of words). Most reviews (96%) are shorter than 300 words, the mean length is 101. There are many outliers - 2393."
   ]
  },
  {
   "cell_type": "code",
   "execution_count": 12,
   "metadata": {},
   "outputs": [
    {
     "name": "stdout",
     "output_type": "stream",
     "text": [
      "Number of outliers: 15695\n"
     ]
    }
   ],
   "source": [
    "df['Review'] = df['reviewText'] + df[\"summary\"]\n",
    "df['Review_length'] = df['Review'].map(lambda x: len(x.split()))\n",
    "print(f'Number of outliers: {df[df.Review_length > 1.5 * df.Review_length.quantile(0.75)].shape[0]}')"
   ]
  },
  {
   "cell_type": "code",
   "execution_count": 13,
   "metadata": {},
   "outputs": [
    {
     "name": "stdout",
     "output_type": "stream",
     "text": [
      "Basic stats of Review lengths\n",
      " count    104400.000000\n",
      "mean        108.158123\n",
      "std         114.184975\n",
      "min           2.000000\n",
      "25%          34.000000\n",
      "50%          64.000000\n",
      "75%         133.000000\n",
      "max         785.000000\n",
      "Name: Review_length, dtype: float64\n"
     ]
    },
    {
     "data": {
      "image/png": "[encoded data removed]",
      "text/plain": [
       "<Figure size 360x360 with 1 Axes>"
      ]
     },
     "metadata": {
      "needs_background": "light"
     },
     "output_type": "display_data"
    }
   ],
   "source": [
    "sns.displot(df['Review_length'])\n",
    "print('Basic stats of Review lengths\\n',df['Review_length'].describe())\n",
    "plt.title('Histogram of reviews length')\n",
    "plt.show()"
   ]
  },
  {
   "cell_type": "code",
   "execution_count": 14,
   "metadata": {},
   "outputs": [
    {
     "data": {
      "image/png": "[encoded data removed]",
      "text/plain": [
       "<Figure size 360x360 with 1 Axes>"
      ]
     },
     "metadata": {
      "needs_background": "light"
     },
     "output_type": "display_data"
    }
   ],
   "source": [
    "\n",
    "sns.displot(df['Review_length']).set(xlim=[0,500])\n",
    "plt.title('Zoomed histogram to [0, 500] range')\n",
    "plt.show()"
   ]
  },
  {
   "cell_type": "code",
   "execution_count": 15,
   "metadata": {},
   "outputs": [
    {
     "name": "stdout",
     "output_type": "stream",
     "text": [
      "Review_length\n",
      "False    11138\n",
      "True     93262\n",
      "Name: Review_length, dtype: int64\n",
      "0.8933141762452107\n"
     ]
    }
   ],
   "source": [
    "x=df.groupby(df.Review_length < 250)['Review_length'].count()\n",
    "print(x)\n",
    "print(x[1]/(x.sum()))"
   ]
  },
  {
   "cell_type": "markdown",
   "metadata": {},
   "source": [
    "\n",
    "Let's check distributions of reviews lengths regarding Rating level. Lower ratings have much havier tails than the higher ones. Furthermore, distributions of lower-rated reviews are slightly shifted to the larger values. Among reviews with more than 300 words, ratings are more equally distributed."
   ]
  },
  {
   "cell_type": "code",
   "execution_count": 16,
   "metadata": {},
   "outputs": [
    {
     "data": {
      "text/html": [
       "<div>\n",
       "<style scoped>\n",
       "    .dataframe tbody tr th:only-of-type {\n",
       "        vertical-align: middle;\n",
       "    }\n",
       "\n",
       "    .dataframe tbody tr th {\n",
       "        vertical-align: top;\n",
       "    }\n",
       "\n",
       "    .dataframe thead th {\n",
       "        text-align: right;\n",
       "    }\n",
       "</style>\n",
       "<table border=\"1\" class=\"dataframe\">\n",
       "  <thead>\n",
       "    <tr style=\"text-align: right;\">\n",
       "      <th></th>\n",
       "      <th>mean</th>\n",
       "      <th>median</th>\n",
       "    </tr>\n",
       "    <tr>\n",
       "      <th>Rating</th>\n",
       "      <th></th>\n",
       "      <th></th>\n",
       "    </tr>\n",
       "  </thead>\n",
       "  <tbody>\n",
       "    <tr>\n",
       "      <th>1</th>\n",
       "      <td>90.135010</td>\n",
       "      <td>55</td>\n",
       "    </tr>\n",
       "    <tr>\n",
       "      <th>2</th>\n",
       "      <td>108.114751</td>\n",
       "      <td>65</td>\n",
       "    </tr>\n",
       "    <tr>\n",
       "      <th>3</th>\n",
       "      <td>116.490182</td>\n",
       "      <td>67</td>\n",
       "    </tr>\n",
       "    <tr>\n",
       "      <th>4</th>\n",
       "      <td>125.815182</td>\n",
       "      <td>72</td>\n",
       "    </tr>\n",
       "    <tr>\n",
       "      <th>5</th>\n",
       "      <td>100.235489</td>\n",
       "      <td>62</td>\n",
       "    </tr>\n",
       "  </tbody>\n",
       "</table>\n",
       "</div>"
      ],
      "text/plain": [
       "              mean  median\n",
       "Rating                    \n",
       "1        90.135010      55\n",
       "2       108.114751      65\n",
       "3       116.490182      67\n",
       "4       125.815182      72\n",
       "5       100.235489      62"
      ]
     },
     "execution_count": 16,
     "metadata": {},
     "output_type": "execute_result"
    }
   ],
   "source": [
    "df.groupby('Rating')['Review_length'].agg([np.mean, np.median])"
   ]
  },
  {
   "cell_type": "code",
   "execution_count": 17,
   "metadata": {},
   "outputs": [
    {
     "data": {
      "image/png": "[encoded data removed]",
      "text/plain": [
       "<Figure size 402.375x360 with 1 Axes>"
      ]
     },
     "metadata": {
      "needs_background": "light"
     },
     "output_type": "display_data"
    }
   ],
   "source": [
    "sns.displot(data=df, x='Review_length', hue='Rating').set(xlim=[0,500])\n",
    "plt.title('Histogram of reviews length depanding on Rating')\n",
    "plt.show()"
   ]
  },
  {
   "cell_type": "code",
   "execution_count": 18,
   "metadata": {},
   "outputs": [
    {
     "data": {
      "image/png": "[encoded data removed]",
      "text/plain": [
       "<Figure size 402.375x360 with 1 Axes>"
      ]
     },
     "metadata": {
      "needs_background": "light"
     },
     "output_type": "display_data"
    }
   ],
   "source": [
    "# denstity plot for better view of differences\n",
    "sns.displot(df, x=\"Review_length\", hue=\"Rating\", kind=\"kde\", fill=True).set(xlim=[0,500])\n",
    "plt.title('Density of reviews length depanding on Rating')\n",
    "plt.show()"
   ]
  },
  {
   "cell_type": "code",
   "execution_count": 19,
   "metadata": {},
   "outputs": [
    {
     "data": {
      "image/png": "[encoded data removed]",
      "text/plain": [
       "<Figure size 402.375x360 with 1 Axes>"
      ]
     },
     "metadata": {
      "needs_background": "light"
     },
     "output_type": "display_data"
    }
   ],
   "source": [
    "# distribution of the longest reviews, scaled with log\n",
    "sns.displot(x=np.log(df.loc[df.Review_length>500, 'Review_length']),\n",
    "            hue=df.loc[df.Review_length>500, 'Rating'], kind='kde', fill=True)\n",
    "plt.title('Density of reviews length depanding on Rating for the biggest values > 300 \\n (after transformation with log)')\n",
    "plt.show()"
   ]
  },
  {
   "cell_type": "markdown",
   "metadata": {},
   "source": [
    "# Structure of reviews\n",
    "Let's see how review texts are structured regarding the sentiment of text in particular parts of review. Do medium-critical reviews praise for some elements of stay at the beginning or start from describing negative thoughts? How do start the lowest-rated reviews?\n",
    "\n",
    "To answer this, we will use a pre-trained sentiment analyzer VADER. Before that, we tokenize and prune review length to 300 words. The best option would be to split of text according to sentences, but since there are no punctuation marks in our data set, we divide text every 4 words and analyze their sentiment. VADER returns four values: pos - positive sentiment with values[0,1], neg - negative sentiment with values [0,1], neu - neutral sentiment with values [0,1] and compound - aggregated score indicating positive or negative sentiment with values [-1,1]."
   ]
  },
  {
   "cell_type": "code",
   "execution_count": 20,
   "metadata": {},
   "outputs": [],
   "source": [
    "df = raw.copy()"
   ]
  },
  {
   "cell_type": "code",
   "execution_count": 21,
   "metadata": {},
   "outputs": [
    {
     "name": "stderr",
     "output_type": "stream",
     "text": [
      "[nltk_data] Downloading package vader_lexicon to\n",
      "[nltk_data]     C:\\Users\\alita\\AppData\\Roaming\\nltk_data...\n",
      "[nltk_data]   Package vader_lexicon is already up-to-date!\n"
     ]
    }
   ],
   "source": [
    "nltk.download('vader_lexicon')\n",
    "from nltk.sentiment.vader import SentimentIntensityAnalyzer\n",
    "MAX_LENGTH = 300\n",
    "CHUNK_SIZE = 4\n",
    "MAX_CHUNK_NUMBER = int(300/CHUNK_SIZE)"
   ]
  },
  {
   "cell_type": "code",
   "execution_count": 22,
   "metadata": {},
   "outputs": [],
   "source": [
    "df['Review'] = df['reviewText'] + df[\"summary\"]\n",
    "def review_into_sentiment_chunks(row):\n",
    "    tokenized_text = row['Review'].split()[:MAX_LENGTH]\n",
    "    text_chunks = [' '.join(tokenized_text[i:i+CHUNK_SIZE]) for i in range(0, len(tokenized_text), CHUNK_SIZE)]\n",
    "\n",
    "    polarity_scores = [analyzer.polarity_scores(x) for x in text_chunks]\n",
    "    \n",
    "    for feature in ['neg', 'pos', 'compound']:\n",
    "        pad_vector = np.zeros(MAX_CHUNK_NUMBER)\n",
    "        polarities_of_chunks = np.array([x[feature] for x in polarity_scores])\n",
    "        polarities_of_chunks = polarities_of_chunks.repeat(int(MAX_CHUNK_NUMBER/len(polarities_of_chunks)))\n",
    "        pad_vector[:polarities_of_chunks.shape[0]] += polarities_of_chunks\n",
    "        row['sentiment_chunks_'+feature] = pad_vector\n",
    "    \n",
    "    return row\n",
    "analyzer = SentimentIntensityAnalyzer()\n",
    "df = df.apply(review_into_sentiment_chunks, axis=1)"
   ]
  },
  {
   "cell_type": "markdown",
   "metadata": {},
   "source": [
    "\n",
    "After applying the function above we created columns with sentiment values vectors (each vector has a length of 75, one value for each chunk). Sentiment vectors shorter than 300 words are stretched to 300 for the ability to compare localization of sentiments across the review."
   ]
  },
  {
   "cell_type": "code",
   "execution_count": 23,
   "metadata": {},
   "outputs": [
    {
     "data": {
      "text/html": [
       "<div>\n",
       "<style scoped>\n",
       "    .dataframe tbody tr th:only-of-type {\n",
       "        vertical-align: middle;\n",
       "    }\n",
       "\n",
       "    .dataframe tbody tr th {\n",
       "        vertical-align: top;\n",
       "    }\n",
       "\n",
       "    .dataframe thead th {\n",
       "        text-align: right;\n",
       "    }\n",
       "</style>\n",
       "<table border=\"1\" class=\"dataframe\">\n",
       "  <thead>\n",
       "    <tr style=\"text-align: right;\">\n",
       "      <th></th>\n",
       "      <th>level_1</th>\n",
       "      <th>Rating</th>\n",
       "      <th>ProductID</th>\n",
       "      <th>reviewText</th>\n",
       "      <th>reviewTime</th>\n",
       "      <th>reviewerID</th>\n",
       "      <th>summary</th>\n",
       "      <th>len</th>\n",
       "      <th>Review</th>\n",
       "      <th>sentiment_chunks_neg</th>\n",
       "      <th>sentiment_chunks_pos</th>\n",
       "      <th>sentiment_chunks_compound</th>\n",
       "    </tr>\n",
       "  </thead>\n",
       "  <tbody>\n",
       "    <tr>\n",
       "      <th>0</th>\n",
       "      <td>4</td>\n",
       "      <td>5</td>\n",
       "      <td>B008O8ARTO</td>\n",
       "      <td>As soon as I'm on the edge of my seat, it's ov...</td>\n",
       "      <td>24-Mar-45</td>\n",
       "      <td>A27HTFG0450FR0</td>\n",
       "      <td>I like these stories</td>\n",
       "      <td>97.0</td>\n",
       "      <td>As soon as I'm on the edge of my seat, it's ov...</td>\n",
       "      <td>[0.0, 0.0, 0.0, 0.0, 0.0, 0.0, 0.0, 0.0, 0.0, ...</td>\n",
       "      <td>[0.0, 0.0, 0.0, 0.0, 0.0, 0.0, 0.0, 0.0, 0.0, ...</td>\n",
       "      <td>[0.0, 0.0, 0.0, 0.0, 0.0, 0.0, 0.0, 0.0, 0.0, ...</td>\n",
       "    </tr>\n",
       "    <tr>\n",
       "      <th>1</th>\n",
       "      <td>8</td>\n",
       "      <td>3</td>\n",
       "      <td>B0060M8GYY</td>\n",
       "      <td>I would probably only give it 2 1/2, my kindle...</td>\n",
       "      <td>18-Jun-46</td>\n",
       "      <td>A30X55GM6RO1XJ</td>\n",
       "      <td>Strange...</td>\n",
       "      <td>137.0</td>\n",
       "      <td>I would probably only give it 2 1/2, my kindle...</td>\n",
       "      <td>[0.0, 0.0, 0.0, 0.0, 0.0, 0.0, 0.0, 0.0, 0.0, ...</td>\n",
       "      <td>[0.0, 0.0, 0.0, 0.0, 0.0, 0.0, 0.0, 0.0, 0.0, ...</td>\n",
       "      <td>[0.0, 0.0, 0.0, 0.0, 0.0, 0.0, 0.0, 0.0, 0.0, ...</td>\n",
       "    </tr>\n",
       "    <tr>\n",
       "      <th>2</th>\n",
       "      <td>29</td>\n",
       "      <td>1</td>\n",
       "      <td>B00EURJ910</td>\n",
       "      <td>This book was so slow that I just couldn't get...</td>\n",
       "      <td>21-Mar-46</td>\n",
       "      <td>A1YI8ILV6V4YVH</td>\n",
       "      <td>Boring!</td>\n",
       "      <td>174.0</td>\n",
       "      <td>This book was so slow that I just couldn't get...</td>\n",
       "      <td>[0.0, 0.0, 0.0, 0.0, 0.0, 0.0, 0.0, 0.0, 0.0, ...</td>\n",
       "      <td>[0.0, 0.0, 0.0, 0.0, 0.0, 0.0, 0.0, 0.0, 0.0, ...</td>\n",
       "      <td>[0.0, 0.0, 0.0, 0.0, 0.0, 0.0, 0.0, 0.0, 0.0, ...</td>\n",
       "    </tr>\n",
       "    <tr>\n",
       "      <th>3</th>\n",
       "      <td>62</td>\n",
       "      <td>5</td>\n",
       "      <td>B006PL9ZPY</td>\n",
       "      <td>Read it and think...  Another hit from Blake -...</td>\n",
       "      <td>30-Mar-44</td>\n",
       "      <td>A2RBO5M9NZL9P7</td>\n",
       "      <td>Read!</td>\n",
       "      <td>160.0</td>\n",
       "      <td>Read it and think...  Another hit from Blake -...</td>\n",
       "      <td>[0.0, 0.0, 0.0, 0.0, 0.0, 0.0, 0.0, 0.0, 0.0, ...</td>\n",
       "      <td>[0.0, 0.0, 0.0, 0.0, 0.0, 0.0, 0.0, 0.0, 0.0, ...</td>\n",
       "      <td>[0.0, 0.0, 0.0, 0.0, 0.0, 0.0, 0.0, 0.0, 0.0, ...</td>\n",
       "    </tr>\n",
       "    <tr>\n",
       "      <th>4</th>\n",
       "      <td>74</td>\n",
       "      <td>2</td>\n",
       "      <td>B00JOV928C</td>\n",
       "      <td>Sorry to say but the author has no clue about ...</td>\n",
       "      <td>21-Nov-47</td>\n",
       "      <td>A3U4IV4EYH30H6</td>\n",
       "      <td>what army is this</td>\n",
       "      <td>147.0</td>\n",
       "      <td>Sorry to say but the author has no clue about ...</td>\n",
       "      <td>[0.277, 0.277, 0.277, 0.277, 0.277, 0.277, 0.2...</td>\n",
       "      <td>[0.0, 0.0, 0.0, 0.0, 0.0, 0.0, 0.0, 0.0, 0.0, ...</td>\n",
       "      <td>[-0.0387, -0.0387, -0.0387, -0.0387, -0.0387, ...</td>\n",
       "    </tr>\n",
       "  </tbody>\n",
       "</table>\n",
       "</div>"
      ],
      "text/plain": [
       "   level_1  Rating   ProductID  \\\n",
       "0        4       5  B008O8ARTO   \n",
       "1        8       3  B0060M8GYY   \n",
       "2       29       1  B00EURJ910   \n",
       "3       62       5  B006PL9ZPY   \n",
       "4       74       2  B00JOV928C   \n",
       "\n",
       "                                          reviewText reviewTime  \\\n",
       "0  As soon as I'm on the edge of my seat, it's ov...  24-Mar-45   \n",
       "1  I would probably only give it 2 1/2, my kindle...  18-Jun-46   \n",
       "2  This book was so slow that I just couldn't get...  21-Mar-46   \n",
       "3  Read it and think...  Another hit from Blake -...  30-Mar-44   \n",
       "4  Sorry to say but the author has no clue about ...  21-Nov-47   \n",
       "\n",
       "       reviewerID               summary    len  \\\n",
       "0  A27HTFG0450FR0  I like these stories   97.0   \n",
       "1  A30X55GM6RO1XJ            Strange...  137.0   \n",
       "2  A1YI8ILV6V4YVH               Boring!  174.0   \n",
       "3  A2RBO5M9NZL9P7                 Read!  160.0   \n",
       "4  A3U4IV4EYH30H6     what army is this  147.0   \n",
       "\n",
       "                                              Review  \\\n",
       "0  As soon as I'm on the edge of my seat, it's ov...   \n",
       "1  I would probably only give it 2 1/2, my kindle...   \n",
       "2  This book was so slow that I just couldn't get...   \n",
       "3  Read it and think...  Another hit from Blake -...   \n",
       "4  Sorry to say but the author has no clue about ...   \n",
       "\n",
       "                                sentiment_chunks_neg  \\\n",
       "0  [0.0, 0.0, 0.0, 0.0, 0.0, 0.0, 0.0, 0.0, 0.0, ...   \n",
       "1  [0.0, 0.0, 0.0, 0.0, 0.0, 0.0, 0.0, 0.0, 0.0, ...   \n",
       "2  [0.0, 0.0, 0.0, 0.0, 0.0, 0.0, 0.0, 0.0, 0.0, ...   \n",
       "3  [0.0, 0.0, 0.0, 0.0, 0.0, 0.0, 0.0, 0.0, 0.0, ...   \n",
       "4  [0.277, 0.277, 0.277, 0.277, 0.277, 0.277, 0.2...   \n",
       "\n",
       "                                sentiment_chunks_pos  \\\n",
       "0  [0.0, 0.0, 0.0, 0.0, 0.0, 0.0, 0.0, 0.0, 0.0, ...   \n",
       "1  [0.0, 0.0, 0.0, 0.0, 0.0, 0.0, 0.0, 0.0, 0.0, ...   \n",
       "2  [0.0, 0.0, 0.0, 0.0, 0.0, 0.0, 0.0, 0.0, 0.0, ...   \n",
       "3  [0.0, 0.0, 0.0, 0.0, 0.0, 0.0, 0.0, 0.0, 0.0, ...   \n",
       "4  [0.0, 0.0, 0.0, 0.0, 0.0, 0.0, 0.0, 0.0, 0.0, ...   \n",
       "\n",
       "                           sentiment_chunks_compound  \n",
       "0  [0.0, 0.0, 0.0, 0.0, 0.0, 0.0, 0.0, 0.0, 0.0, ...  \n",
       "1  [0.0, 0.0, 0.0, 0.0, 0.0, 0.0, 0.0, 0.0, 0.0, ...  \n",
       "2  [0.0, 0.0, 0.0, 0.0, 0.0, 0.0, 0.0, 0.0, 0.0, ...  \n",
       "3  [0.0, 0.0, 0.0, 0.0, 0.0, 0.0, 0.0, 0.0, 0.0, ...  \n",
       "4  [-0.0387, -0.0387, -0.0387, -0.0387, -0.0387, ...  "
      ]
     },
     "execution_count": 23,
     "metadata": {},
     "output_type": "execute_result"
    }
   ],
   "source": [
    "\n",
    "df.head()"
   ]
  },
  {
   "cell_type": "markdown",
   "metadata": {},
   "source": [
    "\n",
    "Now let's put those values into the heatmap. The color indicates mean value of sentiment on a given position. The first plot has a common color scale, the following ones do not for the sake of visibility of differences within x-star reviews.\n",
    "\n",
    "Conclusions:\n",
    "\n",
    "1-star reviews have the most negative remarks at the beginning of the review. At the end, there are more neutral/positive sentences (look at the last plot).\n",
    "\n",
    "2-star reviews start with some negative conclusions, followed by some positive words of praise, and then probably explain the lower rating (mild negative sentiment)\n",
    "\n",
    "a similar pattern is visible in case of 3-star reviews, however not as clearly as 2-star reviews and sentiments are more positive overall\n",
    "\n",
    "4-start and 5-star reviews start with very positive opinions, the rest of review is more neutral marked\n",
    "\n",
    "Conclusion for future modeling: It seems that each x-star group has its own pattern of sentiment values localization. Thus, information on the spatiality across review will be very important and solutions that lose it, like bag-of-words, shouldn't be used."
   ]
  },
  {
   "cell_type": "code",
   "execution_count": 24,
   "metadata": {},
   "outputs": [
    {
     "data": {
      "image/png": "[encoded data removed]",
      "text/plain": [
       "<Figure size 1008x864 with 10 Axes>"
      ]
     },
     "metadata": {
      "needs_background": "light"
     },
     "output_type": "display_data"
    }
   ],
   "source": [
    "import seaborn as sns\n",
    "\n",
    "def plot_sentiment(df, column_name, ratng, **kwargs):\n",
    "    x = np.array(list(df.loc[df['Rating'] == ratng, column_name].values))\n",
    "    x = x.mean(axis=0)[..., np.newaxis].T\n",
    "    sns.heatmap(x, **kwargs)\n",
    "    \n",
    "fig = plt.figure()\n",
    "fig.set_size_inches(14,12)\n",
    "fig.suptitle('Compound sentiment across review, red - negative, blue - positive')\n",
    "fig.tight_layout()\n",
    "fig.subplots_adjust(top=0.95)\n",
    "for i in range(5):\n",
    "    plt.subplot(5,1, i+1)\n",
    "    plot_sentiment(df, 'sentiment_chunks_compound', i+1, cmap='seismic_r', vmin=-0.20, vmax =0.25)\n",
    "    plt.ylabel(str(i+1)+'_rating')\n",
    "    plt.xticks([0, 75], ['beginning of review', 'end of review'])\n",
    "    plt.yticks([])"
   ]
  },
  {
   "cell_type": "code",
   "execution_count": 25,
   "metadata": {},
   "outputs": [
    {
     "data": {
      "image/png": "[encoded data removed]",
      "text/plain": [
       "<Figure size 1008x864 with 10 Axes>"
      ]
     },
     "metadata": {
      "needs_background": "light"
     },
     "output_type": "display_data"
    }
   ],
   "source": [
    "fig = plt.figure()\n",
    "fig.set_size_inches(14,12)\n",
    "fig.suptitle('Mean negative sentiment across review\\n(each rating has its own color scale)')\n",
    "fig.tight_layout()\n",
    "fig.subplots_adjust(top=0.94)\n",
    "for i in range(5):\n",
    "    plt.subplot(5,1, i+1)\n",
    "    plot_sentiment(df, 'sentiment_chunks_neg', i+1, cmap='Reds')\n",
    "    plt.ylabel(str(i+1)+'_rating')\n",
    "    plt.xticks([0, 75], ['beginning of review', 'end of review'])\n",
    "    plt.yticks([])"
   ]
  },
  {
   "cell_type": "code",
   "execution_count": 26,
   "metadata": {},
   "outputs": [
    {
     "data": {
      "image/png": "[encoded data removed]",
      "text/plain": [
       "<Figure size 1008x864 with 10 Axes>"
      ]
     },
     "metadata": {
      "needs_background": "light"
     },
     "output_type": "display_data"
    }
   ],
   "source": [
    "fig = plt.figure()\n",
    "fig.set_size_inches(14,12)\n",
    "fig.suptitle('Mean positive sentiment across review\\n(each rating has its own color scale)')\n",
    "fig.tight_layout()\n",
    "fig.subplots_adjust(top=0.94)\n",
    "for i in range(5):\n",
    "    plt.subplot(5,1, i+1)\n",
    "    plot_sentiment(df, 'sentiment_chunks_pos', i+1, cmap='Blues')\n",
    "    plt.ylabel(str(i+1)+'_rating')\n",
    "    plt.xticks([0, 75], ['beginning of review', 'end of review'])\n",
    "    plt.yticks([])"
   ]
  },
  {
   "cell_type": "code",
   "execution_count": 27,
   "metadata": {},
   "outputs": [],
   "source": [
    "del df"
   ]
  },
  {
   "cell_type": "code",
   "execution_count": 28,
   "metadata": {},
   "outputs": [],
   "source": [
    "del raw"
   ]
  },
  {
   "cell_type": "code",
   "execution_count": 29,
   "metadata": {},
   "outputs": [
    {
     "name": "stderr",
     "output_type": "stream",
     "text": [
      "[nltk_data] Downloading package stopwords to\n",
      "[nltk_data]     C:\\Users\\alita\\AppData\\Roaming\\nltk_data...\n",
      "[nltk_data]   Package stopwords is already up-to-date!\n"
     ]
    }
   ],
   "source": [
    "import pandas as pd\n",
    "import numpy as np\n",
    "import matplotlib.pyplot as plt\n",
    "import seaborn as sns\n",
    "import tensorflow as tf\n",
    "import re\n",
    "import nltk\n",
    "nltk.download('stopwords')\n",
    "from nltk.corpus import stopwords\n",
    "import warnings\n",
    "warnings.filterwarnings('ignore')"
   ]
  },
  {
   "cell_type": "code",
   "execution_count": 30,
   "metadata": {},
   "outputs": [],
   "source": [
    "\n",
    "raw = pd.read_csv('balanced.csv')\n",
    "def preprocess_text(text):\n",
    "    text = text.lower()\n",
    "    text = re.sub(r\"n't\", ' not', text)\n",
    "    text = re.sub(r\"\\W|[\\r\\n]+\", ' ', text) # remove not-words and newlines\n",
    "    text = re.sub(r\"\\s{2,}\", ' ', text) # remove '.', ',' and doubled whitespaces\n",
    "    \n",
    "    tokenized = [word for word in text.split() if word not in stopwords.words('english')] # remove stopwords\n",
    "    text = ' '.join(tokenized)\n",
    "    return text\n",
    "df = raw\n",
    "df['Review'] = df['reviewText'] + df[\"summary\"]\n",
    "\n",
    "\n",
    "df['Review'] = df['Review'].map(preprocess_text)\n",
    "df['Review_length'] = df['reviewText'].map(lambda x: len(x.split()))"
   ]
  },
  {
   "cell_type": "code",
   "execution_count": 31,
   "metadata": {},
   "outputs": [],
   "source": [
    "del raw"
   ]
  },
  {
   "cell_type": "code",
   "execution_count": 32,
   "metadata": {},
   "outputs": [],
   "source": [
    "df.to_csv('CLEANED.csv', encoding='utf-8')"
   ]
  },
  {
   "cell_type": "code",
   "execution_count": 33,
   "metadata": {},
   "outputs": [],
   "source": [
    "del df"
   ]
  },
  {
   "cell_type": "code",
   "execution_count": 34,
   "metadata": {},
   "outputs": [],
   "source": [
    "df = pd.read_csv('CLEANED.csv')"
   ]
  },
  {
   "cell_type": "code",
   "execution_count": 35,
   "metadata": {},
   "outputs": [],
   "source": [
    "#df = df.sample(frac =.1)"
   ]
  },
  {
   "cell_type": "code",
   "execution_count": 36,
   "metadata": {},
   "outputs": [],
   "source": [
    "df['Rating'].value_counts().plot.bar()"
   ]
  },
  {
   "cell_type": "markdown",
   "metadata": {},
   "source": [
    "#  Logestic Reg and TFIDF"
   ]
  },
  {
   "cell_type": "code",
   "execution_count": 37,
   "metadata": {},
   "outputs": [],
   "source": [
    "def _reciprocal_rank(true_labels: list, machine_preds: list):\n",
    "    \"\"\"Compute the reciprocal rank at cutoff k\"\"\"\n",
    "    \n",
    "    # add index to list only if machine predicted label exists in true labels\n",
    "    tp_pos_list = [(idx + 1) for idx, r in enumerate(machine_preds) if r in true_labels]\n",
    "\n",
    "    rr = 0\n",
    "    if len(tp_pos_list) > 0:\n",
    "        # for RR we need position of first correct item\n",
    "        first_pos_list = tp_pos_list[0]\n",
    "        \n",
    "        # rr = 1/rank\n",
    "        rr = 1 / float(first_pos_list)\n",
    "\n",
    "    return rr\n",
    "\n",
    "def compute_mrr_at_k(items:list):\n",
    "    \"\"\"Compute the MRR (average RR) at cutoff k\"\"\"\n",
    "    rr_total = 0\n",
    "    \n",
    "    for item in items:   \n",
    "        rr_at_k = _reciprocal_rank(item[0],item[1])\n",
    "        rr_total = rr_total + rr_at_k\n",
    "        mrr = rr_total / 1/float(len(items))\n",
    "\n",
    "    return mrr\n",
    "\n",
    "def collect_preds(Y_test,Y_preds):\n",
    "    \"\"\"Collect all predictions and ground truth\"\"\"\n",
    "    \n",
    "    pred_gold_list=[[[Y_test[idx]],pred] for idx,pred in enumerate(Y_preds)]\n",
    "    return pred_gold_list\n",
    "             \n",
    "def compute_accuracy(eval_items:list):\n",
    "    correct=0\n",
    "    total=0\n",
    "    \n",
    "    for item in eval_items:\n",
    "        true_pred=item[0]\n",
    "        machine_pred=set(item[1])\n",
    "        \n",
    "        for cat in true_pred:\n",
    "            if cat in machine_pred:\n",
    "                correct+=1\n",
    "                break\n",
    "    \n",
    "    \n",
    "    accuracy=correct/float(len(eval_items))\n",
    "    return accuracy"
   ]
  },
  {
   "cell_type": "code",
   "execution_count": 38,
   "metadata": {},
   "outputs": [],
   "source": [
    "from sklearn.metrics import precision_recall_fscore_support\n",
    "from sklearn.model_selection import train_test_split\n",
    "from sklearn.linear_model import LogisticRegression\n",
    "from sklearn.feature_extraction.text import CountVectorizer,TfidfVectorizer\n",
    "\n",
    "import numpy as np\n",
    "import logging\n",
    "\n",
    "logging.basicConfig(format='%(asctime)s : %(levelname)s : %(message)s', level=logging.INFO)\n",
    "\n",
    "def extract_features(df,field,training_data,testing_data,type=\"binary\"):\n",
    "    \"\"\"Extract features using different methods\"\"\"\n",
    "    \n",
    "    logging.info(\"Extracting features and creating vocabulary...\")\n",
    "    \n",
    "    if \"binary\" in type:\n",
    "        \n",
    "        # BINARY FEATURE REPRESENTATION\n",
    "        cv= CountVectorizer(binary=True, max_df=0.95)\n",
    "        cv.fit_transform(training_data[field].values)\n",
    "        \n",
    "        train_feature_set=cv.transform(training_data[field].values)\n",
    "        test_feature_set=cv.transform(testing_data[field].values)\n",
    "        \n",
    "        return train_feature_set,test_feature_set,cv\n",
    "  \n",
    "    elif \"counts\" in type:\n",
    "        \n",
    "        # COUNT BASED FEATURE REPRESENTATION\n",
    "        cv= CountVectorizer(binary=False, max_df=0.95)\n",
    "        cv.fit_transform(training_data[field].values)\n",
    "        \n",
    "        train_feature_set=cv.transform(training_data[field].values)\n",
    "        test_feature_set=cv.transform(testing_data[field].values)\n",
    "        \n",
    "        return train_feature_set,test_feature_set,cv\n",
    "    \n",
    "    else:    \n",
    "        \n",
    "        # TF-IDF BASED FEATURE REPRESENTATION\n",
    "        tfidf_vectorizer=TfidfVectorizer(use_idf=True, max_df=0.95)\n",
    "        tfidf_vectorizer.fit_transform(training_data[field].values)\n",
    "        \n",
    "        train_feature_set=tfidf_vectorizer.transform(training_data[field].values)\n",
    "        test_feature_set=tfidf_vectorizer.transform(testing_data[field].values)\n",
    "        \n",
    "        return train_feature_set,test_feature_set,tfidf_vectorizer\n",
    "\n",
    "def get_top_k_predictions(model,X_test,k):\n",
    "    \n",
    "    # get probabilities instead of predicted labels, since we want to collect top 3\n",
    "    probs = model.predict_proba(X_test)\n",
    "\n",
    "    # GET TOP K PREDICTIONS BY PROB - note these are just index\n",
    "    best_n = np.argsort(probs, axis=1)[:,-k:]\n",
    "    \n",
    "    # GET CATEGORY OF PREDICTIONS\n",
    "    preds=[[model.classes_[predicted_cat] for predicted_cat in prediction] for prediction in best_n]\n",
    "    \n",
    "    preds=[ item[::-1] for item in preds]\n",
    "    \n",
    "    return preds\n",
    "   \n",
    "    \n",
    "def train_model(df,field=\"reviewText\",feature_rep=\"binary\",top_k=3):\n",
    "    \n",
    "    logging.info(\"Starting model training...\")\n",
    "    \n",
    "    # GET A TRAIN TEST SPLIT (set seed for consistent results)\n",
    "    training_data, testing_data = train_test_split(df,random_state = 500,)\n",
    "\n",
    "    # GET LABELS\n",
    "    Y_train=training_data['Rating'].values\n",
    "    Y_test=testing_data['Rating'].values\n",
    "     \n",
    "    # GET FEATURES\n",
    "    X_train,X_test,feature_transformer=extract_features(df,field,training_data,testing_data,type=feature_rep)\n",
    "\n",
    "    # INIT LOGISTIC REGRESSION CLASSIFIER\n",
    "    logging.info(\"Training a Logistic Regression Model...\")\n",
    "    scikit_log_reg = LogisticRegression(verbose=1, solver='liblinear',random_state=0, C=5, penalty='l2',max_iter=1000)\n",
    "    model=scikit_log_reg.fit(X_train,Y_train)\n",
    "\n",
    "    # GET TOP K PREDICTIONS\n",
    "    preds=get_top_k_predictions(model,X_test,top_k)\n",
    "    \n",
    "    # GET PREDICTED VALUES AND GROUND TRUTH INTO A LIST OF LISTS - for ease of evaluation\n",
    "    eval_items=collect_preds(Y_test,preds)\n",
    "    \n",
    "    # GET EVALUATION NUMBERS ON TEST SET -- HOW DID WE DO?\n",
    "    logging.info(\"Starting evaluation...\")\n",
    "    accuracy=compute_accuracy(eval_items)\n",
    "    mrr_at_k=compute_mrr_at_k(eval_items)\n",
    "    \n",
    "    logging.info(\"Done training and evaluation.\")\n",
    "    \n",
    "    return model,feature_transformer,accuracy,mrr_at_k"
   ]
  },
  {
   "cell_type": "markdown",
   "metadata": {},
   "source": [
    "\n",
    "# Baseline model¶\n",
    "First, let's establish baseline models. These can be median- and mean-based dummy models:"
   ]
  },
  {
   "cell_type": "code",
   "execution_count": 39,
   "metadata": {},
   "outputs": [],
   "source": [
    "y_test = df[\"Rating\"]"
   ]
  },
  {
   "cell_type": "code",
   "execution_count": 40,
   "metadata": {},
   "outputs": [
    {
     "name": "stdout",
     "output_type": "stream",
     "text": [
      "Mean-based baseline model for test set:\n",
      "1.4142135623730951\n",
      "Median-based baseline model for test set:\n",
      "1.4142135623730951\n"
     ]
    }
   ],
   "source": [
    "from sklearn.metrics import mean_squared_error\n",
    "print(\"Mean-based baseline model for test set:\")\n",
    "BMSE = mean_squared_error(y_test, np.repeat(y_test.mean(), len(y_test)), squared=False)\n",
    "print(BMSE)\n",
    "print(\"Median-based baseline model for test set:\")\n",
    "print(mean_squared_error(y_test, np.repeat(y_test.median(), len(y_test)), squared=False))"
   ]
  },
  {
   "cell_type": "code",
   "execution_count": 41,
   "metadata": {},
   "outputs": [],
   "source": [
    "data = {'MODEL':['Mean-based baseline'],\n",
    "        'MSE':[BMSE]}\n",
    "  \n",
    "# Create DataFrame\n",
    "MSE = pd.DataFrame(data)"
   ]
  },
  {
   "cell_type": "code",
   "execution_count": 42,
   "metadata": {},
   "outputs": [
    {
     "data": {
      "text/html": [
       "<div>\n",
       "<style scoped>\n",
       "    .dataframe tbody tr th:only-of-type {\n",
       "        vertical-align: middle;\n",
       "    }\n",
       "\n",
       "    .dataframe tbody tr th {\n",
       "        vertical-align: top;\n",
       "    }\n",
       "\n",
       "    .dataframe thead th {\n",
       "        text-align: right;\n",
       "    }\n",
       "</style>\n",
       "<table border=\"1\" class=\"dataframe\">\n",
       "  <thead>\n",
       "    <tr style=\"text-align: right;\">\n",
       "      <th></th>\n",
       "      <th>MODEL</th>\n",
       "      <th>MSE</th>\n",
       "    </tr>\n",
       "  </thead>\n",
       "  <tbody>\n",
       "    <tr>\n",
       "      <th>0</th>\n",
       "      <td>Mean-based baseline</td>\n",
       "      <td>1.414214</td>\n",
       "    </tr>\n",
       "  </tbody>\n",
       "</table>\n",
       "</div>"
      ],
      "text/plain": [
       "                 MODEL       MSE\n",
       "0  Mean-based baseline  1.414214"
      ]
     },
     "execution_count": 42,
     "metadata": {},
     "output_type": "execute_result"
    }
   ],
   "source": [
    "MSE"
   ]
  },
  {
   "cell_type": "markdown",
   "metadata": {},
   "source": [
    "# 1. Model - (tfidf)"
   ]
  },
  {
   "cell_type": "code",
   "execution_count": 43,
   "metadata": {},
   "outputs": [
    {
     "name": "stderr",
     "output_type": "stream",
     "text": [
      "2021-04-30 16:55:58,933 : INFO : Starting model training...\n",
      "2021-04-30 16:55:58,960 : INFO : Extracting features and creating vocabulary...\n",
      "2021-04-30 16:56:10,566 : INFO : Training a Logistic Regression Model...\n"
     ]
    },
    {
     "name": "stdout",
     "output_type": "stream",
     "text": [
      "[LibLinear]"
     ]
    },
    {
     "name": "stderr",
     "output_type": "stream",
     "text": [
      "2021-04-30 16:56:27,301 : INFO : Starting evaluation...\n",
      "2021-04-30 16:56:27,354 : INFO : Done training and evaluation.\n"
     ]
    },
    {
     "name": "stdout",
     "output_type": "stream",
     "text": [
      "\n",
      "Accuracy=1.0; MRR=0.7201149425287497\n"
     ]
    }
   ],
   "source": [
    "field='reviewText'\n",
    "feature_rep='tfidf'\n",
    "top_k=5\n",
    "\n",
    "model,transformer,accuracy,mrr_at_k=train_model(df,field=field,feature_rep=feature_rep,top_k=top_k)\n",
    "print(\"\\nAccuracy={0}; MRR={1}\".format(accuracy,mrr_at_k))"
   ]
  },
  {
   "cell_type": "code",
   "execution_count": 44,
   "metadata": {},
   "outputs": [],
   "source": [
    "dft =  pd.read_csv(\"Test.csv\")"
   ]
  },
  {
   "cell_type": "code",
   "execution_count": 45,
   "metadata": {},
   "outputs": [],
   "source": [
    "test_features=transformer.transform(dft[\"reviewText\"])\n",
    "pred =get_top_k_predictions(model,test_features,1)"
   ]
  },
  {
   "cell_type": "code",
   "execution_count": 46,
   "metadata": {},
   "outputs": [],
   "source": [
    "dft[\"p\"]=pred "
   ]
  },
  {
   "cell_type": "code",
   "execution_count": 47,
   "metadata": {},
   "outputs": [
    {
     "data": {
      "text/plain": [
       "1.0061463414634146"
      ]
     },
     "execution_count": 47,
     "metadata": {},
     "output_type": "execute_result"
    }
   ],
   "source": [
    "from sklearn.metrics import mean_squared_error\n",
    "M1 =mean_squared_error(dft[\"Rating\"] ,pred)\n",
    "M1"
   ]
  },
  {
   "cell_type": "code",
   "execution_count": 48,
   "metadata": {},
   "outputs": [
    {
     "data": {
      "text/html": [
       "<div>\n",
       "<style scoped>\n",
       "    .dataframe tbody tr th:only-of-type {\n",
       "        vertical-align: middle;\n",
       "    }\n",
       "\n",
       "    .dataframe tbody tr th {\n",
       "        vertical-align: top;\n",
       "    }\n",
       "\n",
       "    .dataframe thead th {\n",
       "        text-align: right;\n",
       "    }\n",
       "</style>\n",
       "<table border=\"1\" class=\"dataframe\">\n",
       "  <thead>\n",
       "    <tr style=\"text-align: right;\">\n",
       "      <th></th>\n",
       "      <th>MODEL</th>\n",
       "      <th>MSE</th>\n",
       "    </tr>\n",
       "  </thead>\n",
       "  <tbody>\n",
       "    <tr>\n",
       "      <th>0</th>\n",
       "      <td>Mean-based baseline</td>\n",
       "      <td>1.414214</td>\n",
       "    </tr>\n",
       "    <tr>\n",
       "      <th>1</th>\n",
       "      <td>TFIDF</td>\n",
       "      <td>1.006146</td>\n",
       "    </tr>\n",
       "  </tbody>\n",
       "</table>\n",
       "</div>"
      ],
      "text/plain": [
       "                 MODEL       MSE\n",
       "0  Mean-based baseline  1.414214\n",
       "1                TFIDF  1.006146"
      ]
     },
     "execution_count": 48,
     "metadata": {},
     "output_type": "execute_result"
    }
   ],
   "source": [
    "MSE.loc[1] = [\"TFIDF\"] + [M1]\n",
    "MSE"
   ]
  },
  {
   "cell_type": "markdown",
   "metadata": {},
   "source": [
    "# 2 Model -  (binary features with description only)"
   ]
  },
  {
   "cell_type": "code",
   "execution_count": 49,
   "metadata": {},
   "outputs": [
    {
     "name": "stderr",
     "output_type": "stream",
     "text": [
      "2021-04-30 16:56:28,351 : INFO : Starting model training...\n",
      "2021-04-30 16:56:28,377 : INFO : Extracting features and creating vocabulary...\n",
      "2021-04-30 16:56:39,786 : INFO : Training a Logistic Regression Model...\n"
     ]
    },
    {
     "name": "stdout",
     "output_type": "stream",
     "text": [
      "[LibLinear]"
     ]
    },
    {
     "name": "stderr",
     "output_type": "stream",
     "text": [
      "2021-04-30 16:58:42,830 : INFO : Starting evaluation...\n",
      "2021-04-30 16:58:42,875 : INFO : Done training and evaluation.\n"
     ]
    },
    {
     "name": "stdout",
     "output_type": "stream",
     "text": [
      "\n",
      "Accuracy=1.0; MRR=0.6894763729246742\n"
     ]
    }
   ],
   "source": [
    "field='reviewText'\n",
    "feature_rep='binary'\n",
    "top_k=5\n",
    "\n",
    "model,transformer,accuracy,mrr_at_k=train_model(df,field=field,feature_rep=feature_rep,top_k=top_k)\n",
    "print(\"\\nAccuracy={0}; MRR={1}\".format(accuracy,mrr_at_k))"
   ]
  },
  {
   "cell_type": "code",
   "execution_count": 50,
   "metadata": {},
   "outputs": [],
   "source": [
    "dft2 =  pd.read_csv(\"Test.csv\")"
   ]
  },
  {
   "cell_type": "code",
   "execution_count": 51,
   "metadata": {},
   "outputs": [],
   "source": [
    "test_features2=transformer.transform(dft2[\"reviewText\"])\n",
    "pred2 =get_top_k_predictions(model,test_features2,1)"
   ]
  },
  {
   "cell_type": "code",
   "execution_count": 52,
   "metadata": {},
   "outputs": [],
   "source": [
    "dft2[\"p\"]=pred2 "
   ]
  },
  {
   "cell_type": "code",
   "execution_count": 53,
   "metadata": {},
   "outputs": [],
   "source": [
    "from sklearn.metrics import mean_squared_error\n",
    "M2 =mean_squared_error(dft2[\"Rating\"] ,pred2)"
   ]
  },
  {
   "cell_type": "code",
   "execution_count": 54,
   "metadata": {},
   "outputs": [
    {
     "data": {
      "text/html": [
       "<div>\n",
       "<style scoped>\n",
       "    .dataframe tbody tr th:only-of-type {\n",
       "        vertical-align: middle;\n",
       "    }\n",
       "\n",
       "    .dataframe tbody tr th {\n",
       "        vertical-align: top;\n",
       "    }\n",
       "\n",
       "    .dataframe thead th {\n",
       "        text-align: right;\n",
       "    }\n",
       "</style>\n",
       "<table border=\"1\" class=\"dataframe\">\n",
       "  <thead>\n",
       "    <tr style=\"text-align: right;\">\n",
       "      <th></th>\n",
       "      <th>MODEL</th>\n",
       "      <th>MSE</th>\n",
       "    </tr>\n",
       "  </thead>\n",
       "  <tbody>\n",
       "    <tr>\n",
       "      <th>0</th>\n",
       "      <td>Mean-based baseline</td>\n",
       "      <td>1.414214</td>\n",
       "    </tr>\n",
       "    <tr>\n",
       "      <th>1</th>\n",
       "      <td>TFIDF</td>\n",
       "      <td>1.006146</td>\n",
       "    </tr>\n",
       "    <tr>\n",
       "      <th>2</th>\n",
       "      <td>LOG-Reg</td>\n",
       "      <td>1.196488</td>\n",
       "    </tr>\n",
       "  </tbody>\n",
       "</table>\n",
       "</div>"
      ],
      "text/plain": [
       "                 MODEL       MSE\n",
       "0  Mean-based baseline  1.414214\n",
       "1                TFIDF  1.006146\n",
       "2              LOG-Reg  1.196488"
      ]
     },
     "execution_count": 54,
     "metadata": {},
     "output_type": "execute_result"
    }
   ],
   "source": [
    "MSE.loc[2] = [\"LOG-Reg\"] + [M2]\n",
    "MSE"
   ]
  },
  {
   "cell_type": "code",
   "execution_count": 55,
   "metadata": {},
   "outputs": [],
   "source": [
    "del dft2 , dft"
   ]
  },
  {
   "cell_type": "markdown",
   "metadata": {},
   "source": [
    "# Neural Network"
   ]
  },
  {
   "cell_type": "markdown",
   "metadata": {},
   "source": [
    "\n",
    "Let's divide our data set into train and test set with 80:20 ratio and tokenize texts into integers. We will use padding to fix the sample size (one review length) to 250. Previously during EDA we observed that 95% of reviews have 300 or fewer words, moreover sequences for LSTM shouldn't be too long, thats why length is set to 250."
   ]
  },
  {
   "cell_type": "code",
   "execution_count": 56,
   "metadata": {},
   "outputs": [],
   "source": [
    "from keras.preprocessing.text import Tokenizer\n",
    "from keras.preprocessing.sequence import pad_sequences\n",
    "from sklearn.model_selection import train_test_split\n",
    "\n",
    "MAX_NUM_WORDS = 10000\n",
    "MAX_VECTOR_LEN = 150\n",
    "\n",
    "x_train, x_test, y_train, y_test = train_test_split(df['Review'], df['Rating'], test_size=0.20, random_state=42)\n",
    "a = x_train\n",
    "tokenizer = Tokenizer(num_words=MAX_NUM_WORDS)\n",
    "tokenizer.fit_on_texts(x_train)\n",
    "\n",
    "x_train = tokenizer.texts_to_sequences(x_train)\n",
    "x_test = tokenizer.texts_to_sequences(x_test)\n",
    "\n",
    "\n",
    "x_train = pad_sequences(x_train, padding='post', maxlen=MAX_VECTOR_LEN)\n",
    "x_test = pad_sequences(x_test, padding='post', maxlen=MAX_VECTOR_LEN)"
   ]
  },
  {
   "cell_type": "code",
   "execution_count": 57,
   "metadata": {},
   "outputs": [
    {
     "data": {
      "text/plain": [
       "array([  67,    8,   21,   42,   24,    2,   74,  290, 3491,   33,  126,\n",
       "        595,  201,  341,  121, 2599, 2961,  368,   83,  201,    0,    0,\n",
       "          0,    0,    0,    0,    0,    0,    0,    0,    0,    0,    0,\n",
       "          0,    0,    0,    0,    0,    0,    0,    0,    0,    0,    0,\n",
       "          0,    0,    0,    0,    0,    0,    0,    0,    0,    0,    0,\n",
       "          0,    0,    0,    0,    0,    0,    0,    0,    0,    0,    0,\n",
       "          0,    0,    0,    0,    0,    0,    0,    0,    0,    0,    0,\n",
       "          0,    0,    0,    0,    0,    0,    0,    0,    0,    0,    0,\n",
       "          0,    0,    0,    0,    0,    0,    0,    0,    0,    0,    0,\n",
       "          0,    0,    0,    0,    0,    0,    0,    0,    0,    0,    0,\n",
       "          0,    0,    0,    0,    0,    0,    0,    0,    0,    0,    0,\n",
       "          0,    0,    0,    0,    0,    0,    0,    0,    0,    0,    0,\n",
       "          0,    0,    0,    0,    0,    0,    0,    0,    0,    0,    0,\n",
       "          0,    0,    0,    0,    0,    0,    0])"
      ]
     },
     "execution_count": 57,
     "metadata": {},
     "output_type": "execute_result"
    }
   ],
   "source": [
    "# exemplary review after transformations\n",
    "x_train[100]"
   ]
  },
  {
   "cell_type": "markdown",
   "metadata": {},
   "source": [
    "\n",
    "Importing pre-train word vectors created with GloVe algorithm to create embedding matrix. glove.6B.300d.txt contains 400,000 words represented in 300-dimensional vectors. Among 5000 words in our vocabulary, only 71 weren't present in the GloVe file. Now our vocabulary is mapped into 300d vector space."
   ]
  },
  {
   "cell_type": "code",
   "execution_count": 58,
   "metadata": {},
   "outputs": [],
   "source": [
    "\n",
    "embedding_dict = dict()\n",
    "with open('glove.6B.300d.txt', encoding='utf8') as file:\n",
    "    for line in file:\n",
    "        splitted_line = line.split()\n",
    "        word = splitted_line[0]\n",
    "        vector_vals = np.asarray(splitted_line[1:], dtype='float32')\n",
    "        embedding_dict[word] = vector_vals"
   ]
  },
  {
   "cell_type": "code",
   "execution_count": 59,
   "metadata": {},
   "outputs": [],
   "source": [
    "\n",
    "embedding_matrix = np.zeros((MAX_NUM_WORDS, 300))\n",
    "non_found_counter = 0\n",
    "for word, index in tokenizer.word_index.items():\n",
    "    embedding_vector = embedding_dict.get(word)\n",
    "    if embedding_vector is not None and index < MAX_NUM_WORDS:\n",
    "        embedding_matrix[index] = embedding_vector\n",
    "    if embedding_vector is None and index < MAX_NUM_WORDS:\n",
    "        non_found_counter += 1"
   ]
  },
  {
   "cell_type": "code",
   "execution_count": 60,
   "metadata": {},
   "outputs": [
    {
     "data": {
      "text/plain": [
       "((10000, 300), 54)"
      ]
     },
     "execution_count": 60,
     "metadata": {},
     "output_type": "execute_result"
    }
   ],
   "source": [
    "embedding_matrix.shape, non_found_counter"
   ]
  },
  {
   "cell_type": "code",
   "execution_count": 61,
   "metadata": {},
   "outputs": [],
   "source": [
    "# Creating a model\n",
    "from keras.models import Sequential\n",
    "from keras.layers import Dense\n",
    "\n",
    "# Custom activation function\n",
    "from keras.layers import Activation\n",
    "from keras import backend as K\n",
    "from keras.utils.generic_utils import get_custom_objects\n",
    "\n",
    "\n",
    "def custom_activation(x):\n",
    "    return (K.sigmoid(x) * 4) + 1\n",
    "\n",
    "get_custom_objects().update({'custom_activation': Activation(custom_activation)})\n",
    "\n",
    "# # Usage\n",
    "# model = Sequential()\n",
    "# model.add(Dense(32, input_dim=784))\n",
    "# model.add(Activation(custom_activation, name='SpecialActivation'))\n",
    "# print(model.summary())"
   ]
  },
  {
   "cell_type": "code",
   "execution_count": 62,
   "metadata": {},
   "outputs": [],
   "source": [
    "x = np.linspace(-10, 10)\n",
    "y = custom_activation(x)\n",
    "y = np.clip(custom_activation(x), a_min=0, a_max=None)"
   ]
  },
  {
   "cell_type": "code",
   "execution_count": 63,
   "metadata": {},
   "outputs": [
    {
     "data": {
      "image/png": "[encoded data removed]",
      "text/plain": [
       "<Figure size 432x288 with 1 Axes>"
      ]
     },
     "metadata": {
      "needs_background": "light"
     },
     "output_type": "display_data"
    }
   ],
   "source": [
    "plt.plot(x, y)\n",
    "plt.show()"
   ]
  },
  {
   "cell_type": "code",
   "execution_count": 64,
   "metadata": {},
   "outputs": [],
   "source": [
    "import tensorflow as tf\n",
    "def mish(inputs):\n",
    "    x = tf.nn.softplus(inputs)\n",
    "    x = tf.nn.tanh(x)\n",
    "    x = tf.multiply(x, inputs)\n",
    "    return x"
   ]
  },
  {
   "cell_type": "code",
   "execution_count": 65,
   "metadata": {},
   "outputs": [
    {
     "data": {
      "image/png": "[encoded data removed]",
      "text/plain": [
       "<Figure size 432x288 with 1 Axes>"
      ]
     },
     "metadata": {
      "needs_background": "light"
     },
     "output_type": "display_data"
    }
   ],
   "source": [
    "x = np.linspace(-10, 10)\n",
    "y =  mish(x)\n",
    "y = np.clip(mish(x), a_min=0, a_max=None)\n",
    "plt.plot(x, y)\n",
    "plt.show()"
   ]
  },
  {
   "cell_type": "code",
   "execution_count": 66,
   "metadata": {},
   "outputs": [],
   "source": [
    "from keras.optimizers import SGD\n",
    "from keras.callbacks import EarlyStopping, ReduceLROnPlateau"
   ]
  },
  {
   "cell_type": "code",
   "execution_count": 67,
   "metadata": {},
   "outputs": [],
   "source": [
    "learning_rate_reduction = ReduceLROnPlateau(monitor='val_mean_squared_error', \n",
    "                                            patience=4, \n",
    "                                            verbose=1, \n",
    "                                            factor=0.5, \n",
    "                                            min_lr=0.00001)"
   ]
  },
  {
   "cell_type": "code",
   "execution_count": 68,
   "metadata": {},
   "outputs": [],
   "source": [
    "earlystop = EarlyStopping(patience=10)"
   ]
  },
  {
   "cell_type": "code",
   "execution_count": 69,
   "metadata": {},
   "outputs": [],
   "source": [
    "from keras.models import Sequential\n",
    "from keras.layers import Dense, Dropout, Activation\n",
    "from keras.optimizers import SGD\n",
    "import keras\n",
    "from keras.layers import Conv1D, MaxPooling1D, Embedding, Dropout, LSTM, GRU, Bidirectional"
   ]
  },
  {
   "cell_type": "markdown",
   "metadata": {},
   "source": [
    "\n",
    "# Simple dense network¶\n",
    "Next, let's try with the simplest neural network containing embedding layer based on previously created embedding_matrix."
   ]
  },
  {
   "cell_type": "markdown",
   "metadata": {},
   "source": [
    "# 3.with custom activation"
   ]
  },
  {
   "cell_type": "code",
   "execution_count": 70,
   "metadata": {},
   "outputs": [
    {
     "name": "stdout",
     "output_type": "stream",
     "text": [
      "Model: \"sequential\"\n",
      "_________________________________________________________________\n",
      "Layer (type)                 Output Shape              Param #   \n",
      "=================================================================\n",
      "embedding (Embedding)        (None, 150, 300)          3000000   \n",
      "_________________________________________________________________\n",
      "flatten (Flatten)            (None, 45000)             0         \n",
      "_________________________________________________________________\n",
      "dense (Dense)                (None, 1)                 45001     \n",
      "_________________________________________________________________\n",
      "dense_1 (Dense)              (None, 1)                 2         \n",
      "=================================================================\n",
      "Total params: 3,045,003\n",
      "Trainable params: 45,003\n",
      "Non-trainable params: 3,000,000\n",
      "_________________________________________________________________\n"
     ]
    }
   ],
   "source": [
    "from tensorflow import keras\n",
    "model = keras.Sequential([\n",
    "    keras.layers.Embedding(MAX_NUM_WORDS, 300, weights=[embedding_matrix],\n",
    "                          input_length=MAX_VECTOR_LEN, trainable=False),\n",
    "    keras.layers.Flatten(),\n",
    "    keras.layers.Dense(1,activation = mish),\n",
    "    keras.layers.Dense(1,activation = custom_activation)\n",
    "])\n",
    "model.compile(optimizer='rmsprop', loss='mean_squared_error', metrics=['mean_squared_error'])\n",
    "model.summary()"
   ]
  },
  {
   "cell_type": "code",
   "execution_count": 71,
   "metadata": {},
   "outputs": [],
   "source": [
    "from keras.callbacks import ModelCheckpoint"
   ]
  },
  {
   "cell_type": "code",
   "execution_count": 72,
   "metadata": {},
   "outputs": [],
   "source": [
    "# cp=ModelCheckpoint('model_rnn_reg.hdf5',monitor='val_mean_squared_error',verbose=1,save_best_only=True)\n",
    "# callbacks = [earlystop, learning_rate_reduction,cp]\n",
    "# history=model.fit(x_train, y_train, validation_split=0.2,epochs=50, batch_size=64,callbacks=callbacks,verbose=2)"
   ]
  },
  {
   "cell_type": "code",
   "execution_count": 73,
   "metadata": {},
   "outputs": [],
   "source": [
    "history = model.fit(x_train, y_train, batch_size=32, epochs=20, validation_split=0.2,verbose=0)"
   ]
  },
  {
   "cell_type": "code",
   "execution_count": 74,
   "metadata": {},
   "outputs": [
    {
     "data": {
      "image/png": "[encoded data removed]",
      "text/plain": [
       "<Figure size 432x288 with 1 Axes>"
      ]
     },
     "metadata": {
      "needs_background": "light"
     },
     "output_type": "display_data"
    }
   ],
   "source": [
    "plt.plot(history.history['mean_squared_error'])\n",
    "plt.plot(history.history['val_mean_squared_error'])\n",
    "\n",
    "plt.title('model loss')\n",
    "plt.ylabel('loss')\n",
    "plt.xlabel('epoch')\n",
    "plt.legend(['train','val'], loc='upper left')\n",
    "plt.show()"
   ]
  },
  {
   "cell_type": "code",
   "execution_count": 75,
   "metadata": {},
   "outputs": [],
   "source": [
    "model3 = model\n",
    "y_pred =model3.predict(x_test)\n",
    "from sklearn.metrics import mean_squared_error\n",
    "M3= mean_squared_error(y_test, y_pred)"
   ]
  },
  {
   "cell_type": "code",
   "execution_count": 76,
   "metadata": {},
   "outputs": [
    {
     "data": {
      "text/html": [
       "<div>\n",
       "<style scoped>\n",
       "    .dataframe tbody tr th:only-of-type {\n",
       "        vertical-align: middle;\n",
       "    }\n",
       "\n",
       "    .dataframe tbody tr th {\n",
       "        vertical-align: top;\n",
       "    }\n",
       "\n",
       "    .dataframe thead th {\n",
       "        text-align: right;\n",
       "    }\n",
       "</style>\n",
       "<table border=\"1\" class=\"dataframe\">\n",
       "  <thead>\n",
       "    <tr style=\"text-align: right;\">\n",
       "      <th></th>\n",
       "      <th>MODEL</th>\n",
       "      <th>MSE</th>\n",
       "    </tr>\n",
       "  </thead>\n",
       "  <tbody>\n",
       "    <tr>\n",
       "      <th>0</th>\n",
       "      <td>Mean-based baseline</td>\n",
       "      <td>1.414214</td>\n",
       "    </tr>\n",
       "    <tr>\n",
       "      <th>1</th>\n",
       "      <td>TFIDF</td>\n",
       "      <td>1.006146</td>\n",
       "    </tr>\n",
       "    <tr>\n",
       "      <th>2</th>\n",
       "      <td>LOG-Reg</td>\n",
       "      <td>1.196488</td>\n",
       "    </tr>\n",
       "    <tr>\n",
       "      <th>3</th>\n",
       "      <td>SIMPLE-With-ACTIVATION</td>\n",
       "      <td>1.303524</td>\n",
       "    </tr>\n",
       "  </tbody>\n",
       "</table>\n",
       "</div>"
      ],
      "text/plain": [
       "                    MODEL       MSE\n",
       "0     Mean-based baseline  1.414214\n",
       "1                   TFIDF  1.006146\n",
       "2                 LOG-Reg  1.196488\n",
       "3  SIMPLE-With-ACTIVATION  1.303524"
      ]
     },
     "execution_count": 76,
     "metadata": {},
     "output_type": "execute_result"
    }
   ],
   "source": [
    "MSE.loc[3] = [\"SIMPLE-With-ACTIVATION\"] + [M3]\n",
    "MSE"
   ]
  },
  {
   "cell_type": "markdown",
   "metadata": {},
   "source": [
    "# 4.without custom activation"
   ]
  },
  {
   "cell_type": "code",
   "execution_count": 77,
   "metadata": {},
   "outputs": [
    {
     "name": "stdout",
     "output_type": "stream",
     "text": [
      "Model: \"sequential_1\"\n",
      "_________________________________________________________________\n",
      "Layer (type)                 Output Shape              Param #   \n",
      "=================================================================\n",
      "embedding_1 (Embedding)      (None, 150, 300)          3000000   \n",
      "_________________________________________________________________\n",
      "flatten_1 (Flatten)          (None, 45000)             0         \n",
      "_________________________________________________________________\n",
      "dense_2 (Dense)              (None, 1)                 45001     \n",
      "=================================================================\n",
      "Total params: 3,045,001\n",
      "Trainable params: 45,001\n",
      "Non-trainable params: 3,000,000\n",
      "_________________________________________________________________\n"
     ]
    }
   ],
   "source": [
    "from tensorflow import keras\n",
    "model = keras.Sequential([\n",
    "    keras.layers.Embedding(MAX_NUM_WORDS, 300, weights=[embedding_matrix],\n",
    "                          input_length=MAX_VECTOR_LEN, trainable=False),\n",
    "    keras.layers.Flatten(),\n",
    "    keras.layers.Dense(1)\n",
    "])\n",
    "model.compile(optimizer='rmsprop', loss='mean_squared_error', metrics=['mean_squared_error'])\n",
    "model.summary()"
   ]
  },
  {
   "cell_type": "code",
   "execution_count": 78,
   "metadata": {},
   "outputs": [],
   "source": [
    "history = model.fit(x_train, y_train, batch_size=32, epochs=50, verbose=0, validation_split=0.2)"
   ]
  },
  {
   "cell_type": "code",
   "execution_count": 79,
   "metadata": {},
   "outputs": [
    {
     "data": {
      "image/png": "[encoded data removed]",
      "text/plain": [
       "<Figure size 432x288 with 1 Axes>"
      ]
     },
     "metadata": {
      "needs_background": "light"
     },
     "output_type": "display_data"
    }
   ],
   "source": [
    "plt.plot(history.history['mean_squared_error'])\n",
    "plt.plot(history.history['val_mean_squared_error'])\n",
    "\n",
    "plt.title('model loss')\n",
    "plt.ylabel('loss')\n",
    "plt.xlabel('epoch')\n",
    "plt.legend(['train','val'], loc='upper left')\n",
    "plt.show()"
   ]
  },
  {
   "cell_type": "code",
   "execution_count": 80,
   "metadata": {},
   "outputs": [],
   "source": [
    "model4 = model\n",
    "y_pred = model4.predict(x_test)\n",
    "from sklearn.metrics import mean_squared_error\n",
    "M4 = mean_squared_error(y_test, y_pred)"
   ]
  },
  {
   "cell_type": "code",
   "execution_count": 81,
   "metadata": {},
   "outputs": [
    {
     "data": {
      "text/html": [
       "<div>\n",
       "<style scoped>\n",
       "    .dataframe tbody tr th:only-of-type {\n",
       "        vertical-align: middle;\n",
       "    }\n",
       "\n",
       "    .dataframe tbody tr th {\n",
       "        vertical-align: top;\n",
       "    }\n",
       "\n",
       "    .dataframe thead th {\n",
       "        text-align: right;\n",
       "    }\n",
       "</style>\n",
       "<table border=\"1\" class=\"dataframe\">\n",
       "  <thead>\n",
       "    <tr style=\"text-align: right;\">\n",
       "      <th></th>\n",
       "      <th>MODEL</th>\n",
       "      <th>MSE</th>\n",
       "    </tr>\n",
       "  </thead>\n",
       "  <tbody>\n",
       "    <tr>\n",
       "      <th>0</th>\n",
       "      <td>Mean-based baseline</td>\n",
       "      <td>1.414214</td>\n",
       "    </tr>\n",
       "    <tr>\n",
       "      <th>1</th>\n",
       "      <td>TFIDF</td>\n",
       "      <td>1.006146</td>\n",
       "    </tr>\n",
       "    <tr>\n",
       "      <th>2</th>\n",
       "      <td>LOG-Reg</td>\n",
       "      <td>1.196488</td>\n",
       "    </tr>\n",
       "    <tr>\n",
       "      <th>3</th>\n",
       "      <td>SIMPLE-With-ACTIVATION</td>\n",
       "      <td>1.303524</td>\n",
       "    </tr>\n",
       "    <tr>\n",
       "      <th>4</th>\n",
       "      <td>SIMPLE-NO-ACTIVATION</td>\n",
       "      <td>4.407636</td>\n",
       "    </tr>\n",
       "  </tbody>\n",
       "</table>\n",
       "</div>"
      ],
      "text/plain": [
       "                    MODEL       MSE\n",
       "0     Mean-based baseline  1.414214\n",
       "1                   TFIDF  1.006146\n",
       "2                 LOG-Reg  1.196488\n",
       "3  SIMPLE-With-ACTIVATION  1.303524\n",
       "4    SIMPLE-NO-ACTIVATION  4.407636"
      ]
     },
     "execution_count": 81,
     "metadata": {},
     "output_type": "execute_result"
    }
   ],
   "source": [
    "MSE.loc[4] = [\"SIMPLE-NO-ACTIVATION\"] + [M4]\n",
    "MSE"
   ]
  },
  {
   "cell_type": "markdown",
   "metadata": {},
   "source": [
    "# CNN\n",
    "Now, let's try CNN. Convolutional layers used on text can replace a forming bag of n-grams and can extract patterns from text."
   ]
  },
  {
   "cell_type": "markdown",
   "metadata": {},
   "source": [
    "# 5 Simple CNN Without Costume Activation"
   ]
  },
  {
   "cell_type": "code",
   "execution_count": 82,
   "metadata": {},
   "outputs": [
    {
     "name": "stdout",
     "output_type": "stream",
     "text": [
      "Model: \"sequential_2\"\n",
      "_________________________________________________________________\n",
      "Layer (type)                 Output Shape              Param #   \n",
      "=================================================================\n",
      "embedding_2 (Embedding)      (None, 150, 300)          3000000   \n",
      "_________________________________________________________________\n",
      "conv1d (Conv1D)              (None, 146, 256)          384256    \n",
      "_________________________________________________________________\n",
      "global_max_pooling1d (Global (None, 256)               0         \n",
      "_________________________________________________________________\n",
      "dense_3 (Dense)              (None, 1)                 257       \n",
      "=================================================================\n",
      "Total params: 3,384,513\n",
      "Trainable params: 384,513\n",
      "Non-trainable params: 3,000,000\n",
      "_________________________________________________________________\n"
     ]
    }
   ],
   "source": [
    "model = keras.Sequential([\n",
    "    keras.layers.Embedding(MAX_NUM_WORDS, 300, weights=[embedding_matrix],\n",
    "                          input_length=MAX_VECTOR_LEN, trainable=False),\n",
    "    keras.layers.Conv1D(256, 5, activation='relu'),\n",
    "    keras.layers.GlobalMaxPooling1D(),\n",
    "    keras.layers.Dense(1)\n",
    "])\n",
    "model.compile(optimizer=keras.optimizers.Adam(learning_rate = 0.00005),\n",
    "              loss='mean_squared_error', metrics=['mean_squared_error'],)\n",
    "model.summary()"
   ]
  },
  {
   "cell_type": "code",
   "execution_count": 83,
   "metadata": {},
   "outputs": [],
   "source": [
    "history = model.fit(x_train, y_train, batch_size=32, epochs=20, verbose=0, validation_split=0.2)"
   ]
  },
  {
   "cell_type": "code",
   "execution_count": 84,
   "metadata": {},
   "outputs": [
    {
     "data": {
      "image/png": "[encoded data removed]",
      "text/plain": [
       "<Figure size 432x288 with 1 Axes>"
      ]
     },
     "metadata": {
      "needs_background": "light"
     },
     "output_type": "display_data"
    }
   ],
   "source": [
    "plt.plot(history.history['mean_squared_error'])\n",
    "plt.plot(history.history['val_mean_squared_error'])\n",
    "\n",
    "plt.title('model loss')\n",
    "plt.ylabel('loss')\n",
    "plt.xlabel('epoch')\n",
    "plt.legend(['train','val'], loc='upper left')\n",
    "plt.show()"
   ]
  },
  {
   "cell_type": "code",
   "execution_count": 85,
   "metadata": {},
   "outputs": [],
   "source": [
    "model5 = model\n",
    "y_pred = model5.predict(x_test)\n",
    "from sklearn.metrics import mean_squared_error\n",
    "M5 = mean_squared_error(y_test, y_pred)"
   ]
  },
  {
   "cell_type": "code",
   "execution_count": 86,
   "metadata": {},
   "outputs": [
    {
     "data": {
      "text/html": [
       "<div>\n",
       "<style scoped>\n",
       "    .dataframe tbody tr th:only-of-type {\n",
       "        vertical-align: middle;\n",
       "    }\n",
       "\n",
       "    .dataframe tbody tr th {\n",
       "        vertical-align: top;\n",
       "    }\n",
       "\n",
       "    .dataframe thead th {\n",
       "        text-align: right;\n",
       "    }\n",
       "</style>\n",
       "<table border=\"1\" class=\"dataframe\">\n",
       "  <thead>\n",
       "    <tr style=\"text-align: right;\">\n",
       "      <th></th>\n",
       "      <th>MODEL</th>\n",
       "      <th>MSE</th>\n",
       "    </tr>\n",
       "  </thead>\n",
       "  <tbody>\n",
       "    <tr>\n",
       "      <th>0</th>\n",
       "      <td>Mean-based baseline</td>\n",
       "      <td>1.414214</td>\n",
       "    </tr>\n",
       "    <tr>\n",
       "      <th>1</th>\n",
       "      <td>TFIDF</td>\n",
       "      <td>1.006146</td>\n",
       "    </tr>\n",
       "    <tr>\n",
       "      <th>2</th>\n",
       "      <td>LOG-Reg</td>\n",
       "      <td>1.196488</td>\n",
       "    </tr>\n",
       "    <tr>\n",
       "      <th>3</th>\n",
       "      <td>SIMPLE-With-ACTIVATION</td>\n",
       "      <td>1.303524</td>\n",
       "    </tr>\n",
       "    <tr>\n",
       "      <th>4</th>\n",
       "      <td>SIMPLE-NO-ACTIVATION</td>\n",
       "      <td>4.407636</td>\n",
       "    </tr>\n",
       "    <tr>\n",
       "      <th>5</th>\n",
       "      <td>CNN-Simple-NO-ACTIVATION</td>\n",
       "      <td>0.922910</td>\n",
       "    </tr>\n",
       "  </tbody>\n",
       "</table>\n",
       "</div>"
      ],
      "text/plain": [
       "                      MODEL       MSE\n",
       "0       Mean-based baseline  1.414214\n",
       "1                     TFIDF  1.006146\n",
       "2                   LOG-Reg  1.196488\n",
       "3    SIMPLE-With-ACTIVATION  1.303524\n",
       "4      SIMPLE-NO-ACTIVATION  4.407636\n",
       "5  CNN-Simple-NO-ACTIVATION  0.922910"
      ]
     },
     "execution_count": 86,
     "metadata": {},
     "output_type": "execute_result"
    }
   ],
   "source": [
    "MSE.loc[5] = [\"CNN-Simple-NO-ACTIVATION\"] + [M5]\n",
    "MSE"
   ]
  },
  {
   "cell_type": "markdown",
   "metadata": {},
   "source": [
    "# 6-Simple CNN With Costume Activation"
   ]
  },
  {
   "cell_type": "code",
   "execution_count": 87,
   "metadata": {},
   "outputs": [
    {
     "name": "stdout",
     "output_type": "stream",
     "text": [
      "Model: \"sequential_3\"\n",
      "_________________________________________________________________\n",
      "Layer (type)                 Output Shape              Param #   \n",
      "=================================================================\n",
      "embedding_3 (Embedding)      (None, 150, 300)          3000000   \n",
      "_________________________________________________________________\n",
      "conv1d_1 (Conv1D)            (None, 146, 256)          384256    \n",
      "_________________________________________________________________\n",
      "global_max_pooling1d_1 (Glob (None, 256)               0         \n",
      "_________________________________________________________________\n",
      "dense_4 (Dense)              (None, 1)                 257       \n",
      "=================================================================\n",
      "Total params: 3,384,513\n",
      "Trainable params: 384,513\n",
      "Non-trainable params: 3,000,000\n",
      "_________________________________________________________________\n"
     ]
    }
   ],
   "source": [
    "model = keras.Sequential([\n",
    "    keras.layers.Embedding(MAX_NUM_WORDS, 300, weights=[embedding_matrix],\n",
    "                          input_length=MAX_VECTOR_LEN, trainable=False),\n",
    "    keras.layers.Conv1D(256, 5, activation='relu'),\n",
    "    keras.layers.GlobalMaxPooling1D(),\n",
    "    keras.layers.Dense(1,custom_activation)\n",
    "])\n",
    "model.compile(optimizer='rmsprop',\n",
    "              loss='mean_squared_error', metrics=['mean_squared_error'],)\n",
    "model.summary()"
   ]
  },
  {
   "cell_type": "code",
   "execution_count": 88,
   "metadata": {},
   "outputs": [],
   "source": [
    "history = model.fit(x_train, y_train, batch_size=32, epochs=20, verbose=0, validation_split=0.2)"
   ]
  },
  {
   "cell_type": "code",
   "execution_count": 89,
   "metadata": {},
   "outputs": [
    {
     "data": {
      "image/png": "[encoded data removed]",
      "text/plain": [
       "<Figure size 432x288 with 1 Axes>"
      ]
     },
     "metadata": {
      "needs_background": "light"
     },
     "output_type": "display_data"
    }
   ],
   "source": [
    "plt.plot(history.history['mean_squared_error'])\n",
    "plt.plot(history.history['val_mean_squared_error'])\n",
    "\n",
    "plt.title('model loss')\n",
    "plt.ylabel('loss')\n",
    "plt.xlabel('epoch')\n",
    "plt.legend(['train','val'], loc='upper left')\n",
    "plt.show()"
   ]
  },
  {
   "cell_type": "code",
   "execution_count": 90,
   "metadata": {},
   "outputs": [],
   "source": [
    "model6 = model\n",
    "y_pred = model6.predict(x_test)\n",
    "from sklearn.metrics import mean_squared_error\n",
    "M6 = mean_squared_error(y_test, y_pred)"
   ]
  },
  {
   "cell_type": "code",
   "execution_count": 91,
   "metadata": {},
   "outputs": [
    {
     "data": {
      "text/html": [
       "<div>\n",
       "<style scoped>\n",
       "    .dataframe tbody tr th:only-of-type {\n",
       "        vertical-align: middle;\n",
       "    }\n",
       "\n",
       "    .dataframe tbody tr th {\n",
       "        vertical-align: top;\n",
       "    }\n",
       "\n",
       "    .dataframe thead th {\n",
       "        text-align: right;\n",
       "    }\n",
       "</style>\n",
       "<table border=\"1\" class=\"dataframe\">\n",
       "  <thead>\n",
       "    <tr style=\"text-align: right;\">\n",
       "      <th></th>\n",
       "      <th>MODEL</th>\n",
       "      <th>MSE</th>\n",
       "    </tr>\n",
       "  </thead>\n",
       "  <tbody>\n",
       "    <tr>\n",
       "      <th>0</th>\n",
       "      <td>Mean-based baseline</td>\n",
       "      <td>1.414214</td>\n",
       "    </tr>\n",
       "    <tr>\n",
       "      <th>1</th>\n",
       "      <td>TFIDF</td>\n",
       "      <td>1.006146</td>\n",
       "    </tr>\n",
       "    <tr>\n",
       "      <th>2</th>\n",
       "      <td>LOG-Reg</td>\n",
       "      <td>1.196488</td>\n",
       "    </tr>\n",
       "    <tr>\n",
       "      <th>3</th>\n",
       "      <td>SIMPLE-With-ACTIVATION</td>\n",
       "      <td>1.303524</td>\n",
       "    </tr>\n",
       "    <tr>\n",
       "      <th>4</th>\n",
       "      <td>SIMPLE-NO-ACTIVATION</td>\n",
       "      <td>4.407636</td>\n",
       "    </tr>\n",
       "    <tr>\n",
       "      <th>5</th>\n",
       "      <td>CNN-Simple-NO-ACTIVATION</td>\n",
       "      <td>0.922910</td>\n",
       "    </tr>\n",
       "    <tr>\n",
       "      <th>6</th>\n",
       "      <td>CNN-WITH-ACTIVATION</td>\n",
       "      <td>0.875534</td>\n",
       "    </tr>\n",
       "  </tbody>\n",
       "</table>\n",
       "</div>"
      ],
      "text/plain": [
       "                      MODEL       MSE\n",
       "0       Mean-based baseline  1.414214\n",
       "1                     TFIDF  1.006146\n",
       "2                   LOG-Reg  1.196488\n",
       "3    SIMPLE-With-ACTIVATION  1.303524\n",
       "4      SIMPLE-NO-ACTIVATION  4.407636\n",
       "5  CNN-Simple-NO-ACTIVATION  0.922910\n",
       "6       CNN-WITH-ACTIVATION  0.875534"
      ]
     },
     "execution_count": 91,
     "metadata": {},
     "output_type": "execute_result"
    }
   ],
   "source": [
    "MSE.loc[6] = [\"CNN-WITH-ACTIVATION\"] + [M6]\n",
    "MSE"
   ]
  },
  {
   "cell_type": "markdown",
   "metadata": {},
   "source": [
    "# LSTM"
   ]
  },
  {
   "cell_type": "markdown",
   "metadata": {},
   "source": [
    "# 7-Simple LSTM Without Costume Activation"
   ]
  },
  {
   "cell_type": "code",
   "execution_count": 92,
   "metadata": {},
   "outputs": [],
   "source": [
    "from keras.layers import LSTM, Activation, Dense, Dropout, Input, Embedding\n",
    "from keras.models import Model"
   ]
  },
  {
   "cell_type": "code",
   "execution_count": 93,
   "metadata": {},
   "outputs": [],
   "source": [
    "def RNN():\n",
    "    inputs = Input(name='inputs',shape=[MAX_VECTOR_LEN])\n",
    "    layer = Embedding(MAX_NUM_WORDS, 300, weights=[embedding_matrix],\n",
    "                          input_length=MAX_VECTOR_LEN, trainable=False)(inputs)\n",
    "    layer = LSTM(64)(layer)\n",
    "    layer = Dense(256,name='FC1')(layer)\n",
    "    layer = Activation('relu')(layer)\n",
    "    layer = Dropout(0.5)(layer)\n",
    "    layer = Dense(1,name='out_layer')(layer)\n",
    "\n",
    "    model = Model(inputs=inputs,outputs=layer)\n",
    "    return model\n"
   ]
  },
  {
   "cell_type": "code",
   "execution_count": 94,
   "metadata": {},
   "outputs": [
    {
     "name": "stdout",
     "output_type": "stream",
     "text": [
      "Model: \"model\"\n",
      "_________________________________________________________________\n",
      "Layer (type)                 Output Shape              Param #   \n",
      "=================================================================\n",
      "inputs (InputLayer)          [(None, 150)]             0         \n",
      "_________________________________________________________________\n",
      "embedding_4 (Embedding)      (None, 150, 300)          3000000   \n",
      "_________________________________________________________________\n",
      "lstm (LSTM)                  (None, 64)                93440     \n",
      "_________________________________________________________________\n",
      "FC1 (Dense)                  (None, 256)               16640     \n",
      "_________________________________________________________________\n",
      "activation_1 (Activation)    (None, 256)               0         \n",
      "_________________________________________________________________\n",
      "dropout (Dropout)            (None, 256)               0         \n",
      "_________________________________________________________________\n",
      "out_layer (Dense)            (None, 1)                 257       \n",
      "=================================================================\n",
      "Total params: 3,110,337\n",
      "Trainable params: 110,337\n",
      "Non-trainable params: 3,000,000\n",
      "_________________________________________________________________\n"
     ]
    }
   ],
   "source": [
    "model = RNN()\n",
    "model.compile(optimizer='rmsprop',\n",
    "              loss='mean_squared_error', metrics=['mean_squared_error'],)\n",
    "model.summary()"
   ]
  },
  {
   "cell_type": "code",
   "execution_count": 95,
   "metadata": {},
   "outputs": [],
   "source": [
    "history = model.fit(x_train, y_train, batch_size=32, epochs=20, verbose=0, validation_split=0.2)"
   ]
  },
  {
   "cell_type": "code",
   "execution_count": 96,
   "metadata": {},
   "outputs": [
    {
     "data": {
      "image/png": "[encoded data removed]",
      "text/plain": [
       "<Figure size 432x288 with 1 Axes>"
      ]
     },
     "metadata": {
      "needs_background": "light"
     },
     "output_type": "display_data"
    }
   ],
   "source": [
    "plt.plot(history.history['mean_squared_error'])\n",
    "plt.plot(history.history['val_mean_squared_error'])\n",
    "\n",
    "plt.title('model loss')\n",
    "plt.ylabel('loss')\n",
    "plt.xlabel('epoch')\n",
    "plt.legend(['train','val'], loc='upper left')\n",
    "plt.show()"
   ]
  },
  {
   "cell_type": "code",
   "execution_count": 97,
   "metadata": {},
   "outputs": [],
   "source": [
    "model7 = model\n",
    "y_pred = model7.predict(x_test)\n",
    "from sklearn.metrics import mean_squared_error\n",
    "M7  = mean_squared_error(y_test, y_pred)"
   ]
  },
  {
   "cell_type": "code",
   "execution_count": 98,
   "metadata": {},
   "outputs": [
    {
     "data": {
      "text/html": [
       "<div>\n",
       "<style scoped>\n",
       "    .dataframe tbody tr th:only-of-type {\n",
       "        vertical-align: middle;\n",
       "    }\n",
       "\n",
       "    .dataframe tbody tr th {\n",
       "        vertical-align: top;\n",
       "    }\n",
       "\n",
       "    .dataframe thead th {\n",
       "        text-align: right;\n",
       "    }\n",
       "</style>\n",
       "<table border=\"1\" class=\"dataframe\">\n",
       "  <thead>\n",
       "    <tr style=\"text-align: right;\">\n",
       "      <th></th>\n",
       "      <th>MODEL</th>\n",
       "      <th>MSE</th>\n",
       "    </tr>\n",
       "  </thead>\n",
       "  <tbody>\n",
       "    <tr>\n",
       "      <th>0</th>\n",
       "      <td>Mean-based baseline</td>\n",
       "      <td>1.414214</td>\n",
       "    </tr>\n",
       "    <tr>\n",
       "      <th>1</th>\n",
       "      <td>TFIDF</td>\n",
       "      <td>1.006146</td>\n",
       "    </tr>\n",
       "    <tr>\n",
       "      <th>2</th>\n",
       "      <td>LOG-Reg</td>\n",
       "      <td>1.196488</td>\n",
       "    </tr>\n",
       "    <tr>\n",
       "      <th>3</th>\n",
       "      <td>SIMPLE-With-ACTIVATION</td>\n",
       "      <td>1.303524</td>\n",
       "    </tr>\n",
       "    <tr>\n",
       "      <th>4</th>\n",
       "      <td>SIMPLE-NO-ACTIVATION</td>\n",
       "      <td>4.407636</td>\n",
       "    </tr>\n",
       "    <tr>\n",
       "      <th>5</th>\n",
       "      <td>CNN-Simple-NO-ACTIVATION</td>\n",
       "      <td>0.922910</td>\n",
       "    </tr>\n",
       "    <tr>\n",
       "      <th>6</th>\n",
       "      <td>CNN-WITH-ACTIVATION</td>\n",
       "      <td>0.875534</td>\n",
       "    </tr>\n",
       "    <tr>\n",
       "      <th>7</th>\n",
       "      <td>LSTM-NO-ACTIVATION</td>\n",
       "      <td>0.690894</td>\n",
       "    </tr>\n",
       "  </tbody>\n",
       "</table>\n",
       "</div>"
      ],
      "text/plain": [
       "                      MODEL       MSE\n",
       "0       Mean-based baseline  1.414214\n",
       "1                     TFIDF  1.006146\n",
       "2                   LOG-Reg  1.196488\n",
       "3    SIMPLE-With-ACTIVATION  1.303524\n",
       "4      SIMPLE-NO-ACTIVATION  4.407636\n",
       "5  CNN-Simple-NO-ACTIVATION  0.922910\n",
       "6       CNN-WITH-ACTIVATION  0.875534\n",
       "7        LSTM-NO-ACTIVATION  0.690894"
      ]
     },
     "execution_count": 98,
     "metadata": {},
     "output_type": "execute_result"
    }
   ],
   "source": [
    "MSE.loc[7] = [\"LSTM-NO-ACTIVATION\"] + [M7]\n",
    "MSE"
   ]
  },
  {
   "cell_type": "markdown",
   "metadata": {},
   "source": [
    "# 8-Simple LSTM With Costume Activation"
   ]
  },
  {
   "cell_type": "code",
   "execution_count": 99,
   "metadata": {},
   "outputs": [],
   "source": [
    "def RNN():\n",
    "    inputs = Input(name='inputs',shape=[MAX_VECTOR_LEN])\n",
    "    layer = Embedding(MAX_NUM_WORDS, 300, weights=[embedding_matrix],\n",
    "                          input_length=MAX_VECTOR_LEN, trainable=False)(inputs)\n",
    "    layer = LSTM(64)(layer)\n",
    "    layer = Dense(256,name='FC1')(layer)\n",
    "    layer = Activation('relu')(layer)\n",
    "    layer = Dropout(0.5)(layer)\n",
    "    layer = Dense(1,name='out_layer')(layer)\n",
    "    layer = Activation(custom_activation)(layer)\n",
    "    model = Model(inputs=inputs,outputs=layer)\n",
    "    return model\n"
   ]
  },
  {
   "cell_type": "code",
   "execution_count": 100,
   "metadata": {},
   "outputs": [
    {
     "name": "stdout",
     "output_type": "stream",
     "text": [
      "Model: \"model_1\"\n",
      "_________________________________________________________________\n",
      "Layer (type)                 Output Shape              Param #   \n",
      "=================================================================\n",
      "inputs (InputLayer)          [(None, 150)]             0         \n",
      "_________________________________________________________________\n",
      "embedding_5 (Embedding)      (None, 150, 300)          3000000   \n",
      "_________________________________________________________________\n",
      "lstm_1 (LSTM)                (None, 64)                93440     \n",
      "_________________________________________________________________\n",
      "FC1 (Dense)                  (None, 256)               16640     \n",
      "_________________________________________________________________\n",
      "activation_2 (Activation)    (None, 256)               0         \n",
      "_________________________________________________________________\n",
      "dropout_1 (Dropout)          (None, 256)               0         \n",
      "_________________________________________________________________\n",
      "out_layer (Dense)            (None, 1)                 257       \n",
      "_________________________________________________________________\n",
      "activation_3 (Activation)    (None, 1)                 0         \n",
      "=================================================================\n",
      "Total params: 3,110,337\n",
      "Trainable params: 110,337\n",
      "Non-trainable params: 3,000,000\n",
      "_________________________________________________________________\n"
     ]
    }
   ],
   "source": [
    "model = RNN()\n",
    "model.compile(optimizer='rmsprop',\n",
    "              loss='mean_squared_error', metrics=['mean_squared_error'],)\n",
    "model.summary()"
   ]
  },
  {
   "cell_type": "code",
   "execution_count": 101,
   "metadata": {},
   "outputs": [],
   "source": [
    "history = model.fit(x_train, y_train, batch_size=32, epochs=20, verbose=0, validation_split=0.2)"
   ]
  },
  {
   "cell_type": "code",
   "execution_count": 102,
   "metadata": {},
   "outputs": [
    {
     "data": {
      "image/png": "[encoded data removed]",
      "text/plain": [
       "<Figure size 432x288 with 1 Axes>"
      ]
     },
     "metadata": {
      "needs_background": "light"
     },
     "output_type": "display_data"
    }
   ],
   "source": [
    "plt.plot(history.history['mean_squared_error'])\n",
    "plt.plot(history.history['val_mean_squared_error'])\n",
    "\n",
    "plt.title('model loss')\n",
    "plt.ylabel('loss')\n",
    "plt.xlabel('epoch')\n",
    "plt.legend(['train','val'], loc='upper left')\n",
    "plt.show()"
   ]
  },
  {
   "cell_type": "code",
   "execution_count": 103,
   "metadata": {},
   "outputs": [],
   "source": [
    "model8 = model\n",
    "y_pred = model8.predict(x_test)\n",
    "from sklearn.metrics import mean_squared_error\n",
    "M8 = mean_squared_error(y_test, y_pred)"
   ]
  },
  {
   "cell_type": "code",
   "execution_count": 104,
   "metadata": {},
   "outputs": [
    {
     "data": {
      "text/html": [
       "<div>\n",
       "<style scoped>\n",
       "    .dataframe tbody tr th:only-of-type {\n",
       "        vertical-align: middle;\n",
       "    }\n",
       "\n",
       "    .dataframe tbody tr th {\n",
       "        vertical-align: top;\n",
       "    }\n",
       "\n",
       "    .dataframe thead th {\n",
       "        text-align: right;\n",
       "    }\n",
       "</style>\n",
       "<table border=\"1\" class=\"dataframe\">\n",
       "  <thead>\n",
       "    <tr style=\"text-align: right;\">\n",
       "      <th></th>\n",
       "      <th>MODEL</th>\n",
       "      <th>MSE</th>\n",
       "    </tr>\n",
       "  </thead>\n",
       "  <tbody>\n",
       "    <tr>\n",
       "      <th>0</th>\n",
       "      <td>Mean-based baseline</td>\n",
       "      <td>1.414214</td>\n",
       "    </tr>\n",
       "    <tr>\n",
       "      <th>1</th>\n",
       "      <td>TFIDF</td>\n",
       "      <td>1.006146</td>\n",
       "    </tr>\n",
       "    <tr>\n",
       "      <th>2</th>\n",
       "      <td>LOG-Reg</td>\n",
       "      <td>1.196488</td>\n",
       "    </tr>\n",
       "    <tr>\n",
       "      <th>3</th>\n",
       "      <td>SIMPLE-With-ACTIVATION</td>\n",
       "      <td>1.303524</td>\n",
       "    </tr>\n",
       "    <tr>\n",
       "      <th>4</th>\n",
       "      <td>SIMPLE-NO-ACTIVATION</td>\n",
       "      <td>4.407636</td>\n",
       "    </tr>\n",
       "    <tr>\n",
       "      <th>5</th>\n",
       "      <td>CNN-Simple-NO-ACTIVATION</td>\n",
       "      <td>0.922910</td>\n",
       "    </tr>\n",
       "    <tr>\n",
       "      <th>6</th>\n",
       "      <td>CNN-WITH-ACTIVATION</td>\n",
       "      <td>0.875534</td>\n",
       "    </tr>\n",
       "    <tr>\n",
       "      <th>7</th>\n",
       "      <td>LSTM-NO-ACTIVATION</td>\n",
       "      <td>0.690894</td>\n",
       "    </tr>\n",
       "    <tr>\n",
       "      <th>8</th>\n",
       "      <td>LSTM-WITH-ACTIVATION</td>\n",
       "      <td>0.689199</td>\n",
       "    </tr>\n",
       "  </tbody>\n",
       "</table>\n",
       "</div>"
      ],
      "text/plain": [
       "                      MODEL       MSE\n",
       "0       Mean-based baseline  1.414214\n",
       "1                     TFIDF  1.006146\n",
       "2                   LOG-Reg  1.196488\n",
       "3    SIMPLE-With-ACTIVATION  1.303524\n",
       "4      SIMPLE-NO-ACTIVATION  4.407636\n",
       "5  CNN-Simple-NO-ACTIVATION  0.922910\n",
       "6       CNN-WITH-ACTIVATION  0.875534\n",
       "7        LSTM-NO-ACTIVATION  0.690894\n",
       "8      LSTM-WITH-ACTIVATION  0.689199"
      ]
     },
     "execution_count": 104,
     "metadata": {},
     "output_type": "execute_result"
    }
   ],
   "source": [
    "MSE.loc[8] = [\"LSTM-WITH-ACTIVATION\"] + [M8]\n",
    "MSE"
   ]
  },
  {
   "cell_type": "markdown",
   "metadata": {},
   "source": [
    "CNN looks more promising, let's search hyperparameters for a more complex network.\n",
    "\n",
    "# 9 CNN Searching hyperparameters no ACTivation\n",
    "We will use keras tuner for searching hyperparameters. It has few different tuners which use different searching algorithms. We will use BayesianOptimization that is based on Bayesian search algorithm which is much better than simple grid search or random search.\n",
    "\n",
    "In build_model function we specify the structure of the model and the space of parameters to search. It's important to set padding=same parameter in Conv1D and MaxPooling1D layers, because for some combinations of kernels and pooling sizes there would be dimensions error (e.g. big pool_size in previous layer reduced length of vector to 8 and next Conv1D layer has kernel with the size of 9).\n",
    "\n",
    "I decided not to use GlobalPooling, because I wanted to preserve some level of location information on account of fact that many negative reviews begin with very few compliments."
   ]
  },
  {
   "cell_type": "code",
   "execution_count": 131,
   "metadata": {},
   "outputs": [],
   "source": [
    "# crating explicit train and validation set\n",
    "x_train_smaller, x_val, y_train_smaller, y_val = train_test_split(x_train, y_train, test_size=.1, random_state=42)"
   ]
  },
  {
   "cell_type": "code",
   "execution_count": 106,
   "metadata": {},
   "outputs": [],
   "source": [
    "def build_model(hp):\n",
    "    model = keras.Sequential()\n",
    "    model.add(keras.layers.Embedding(MAX_NUM_WORDS, 300, weights=[embedding_matrix],\n",
    "                          input_length=MAX_VECTOR_LEN, trainable=False))\n",
    "    for i in range(hp.Int('n_layers', 1,4)):\n",
    "        filters = hp.Int('filters_'+str(i), min_value=32,max_value=384,step=16)\n",
    "        kernel_size = hp.Int('filter_size_'+str(i),min_value=3,max_value=9,step=2)\n",
    "        pooling_size = hp.Int('pool_size_'+str(i),2,12, step=1)\n",
    "        \n",
    "        model.add(keras.layers.Conv1D(filters, kernel_size, activation='relu', padding='same'))\n",
    "        model.add(keras.layers.MaxPooling1D(pooling_size, padding='same'))\n",
    "    model.add(keras.layers.Flatten())\n",
    "    model.add(keras.layers.Dropout(hp.Float('dropout_rate', min_value=0.1,\n",
    "                                           max_value=0.9, step=0.1)))\n",
    "    model.add(keras.layers.Dense(hp.Int('dense_units', 16, 128, step=8)))\n",
    "    model.add(keras.layers.Dense(1))\n",
    "#    model.add(keras.layers.Dense(1,activation=custom_activation))\n",
    "   # model.add(custom_activation)\n",
    "    model.compile(optimizer=keras.optimizers.Adam(\n",
    "        learning_rate = hp.Choice('lr',[0.005,0.001, 0.0001, 0.00001, 0.000001])),\n",
    "                  loss='mean_squared_error', metrics=['mean_squared_error'])\n",
    "    return model"
   ]
  },
  {
   "cell_type": "code",
   "execution_count": 107,
   "metadata": {},
   "outputs": [
    {
     "name": "stdout",
     "output_type": "stream",
     "text": [
      "Trial 5 Complete [00h 23m 01s]\n",
      "val_mean_squared_error: 1.033908724784851\n",
      "\n",
      "Best val_mean_squared_error So Far: 0.7465986609458923\n",
      "Total elapsed time: 02h 10m 50s\n",
      "INFO:tensorflow:Oracle triggered exit\n"
     ]
    },
    {
     "name": "stderr",
     "output_type": "stream",
     "text": [
      "2021-04-30 21:00:37,535 : INFO : Oracle triggered exit\n"
     ]
    }
   ],
   "source": [
    "import kerastuner as kt\n",
    "\n",
    "tuner = kt.BayesianOptimization(build_model, objective='val_mean_squared_error',\n",
    "                               max_trials=5,overwrite=True)\n",
    "tuner.search(x_train_smaller, y_train_smaller, epochs=15, validation_data=(x_val, y_val),\n",
    "            verbose=2)"
   ]
  },
  {
   "cell_type": "code",
   "execution_count": 108,
   "metadata": {},
   "outputs": [
    {
     "data": {
      "text/plain": [
       "{'n_layers': 3,\n",
       " 'filters_0': 208,\n",
       " 'filter_size_0': 5,\n",
       " 'pool_size_0': 3,\n",
       " 'dropout_rate': 0.1,\n",
       " 'dense_units': 64,\n",
       " 'lr': 0.001,\n",
       " 'filters_1': 32,\n",
       " 'filter_size_1': 9,\n",
       " 'pool_size_1': 10,\n",
       " 'filters_2': 32,\n",
       " 'filter_size_2': 5,\n",
       " 'pool_size_2': 5}"
      ]
     },
     "execution_count": 108,
     "metadata": {},
     "output_type": "execute_result"
    }
   ],
   "source": [
    "tuner.get_best_hyperparameters(1)[0].values"
   ]
  },
  {
   "cell_type": "code",
   "execution_count": 109,
   "metadata": {},
   "outputs": [
    {
     "name": "stdout",
     "output_type": "stream",
     "text": [
      "Model: \"sequential\"\n",
      "_________________________________________________________________\n",
      "Layer (type)                 Output Shape              Param #   \n",
      "=================================================================\n",
      "embedding (Embedding)        (None, 150, 300)          3000000   \n",
      "_________________________________________________________________\n",
      "conv1d (Conv1D)              (None, 150, 208)          312208    \n",
      "_________________________________________________________________\n",
      "max_pooling1d (MaxPooling1D) (None, 50, 208)           0         \n",
      "_________________________________________________________________\n",
      "conv1d_1 (Conv1D)            (None, 50, 32)            59936     \n",
      "_________________________________________________________________\n",
      "max_pooling1d_1 (MaxPooling1 (None, 5, 32)             0         \n",
      "_________________________________________________________________\n",
      "conv1d_2 (Conv1D)            (None, 5, 32)             5152      \n",
      "_________________________________________________________________\n",
      "max_pooling1d_2 (MaxPooling1 (None, 1, 32)             0         \n",
      "_________________________________________________________________\n",
      "flatten (Flatten)            (None, 32)                0         \n",
      "_________________________________________________________________\n",
      "dropout (Dropout)            (None, 32)                0         \n",
      "_________________________________________________________________\n",
      "dense (Dense)                (None, 64)                2112      \n",
      "_________________________________________________________________\n",
      "dense_1 (Dense)              (None, 1)                 65        \n",
      "=================================================================\n",
      "Total params: 3,379,473\n",
      "Trainable params: 379,473\n",
      "Non-trainable params: 3,000,000\n",
      "_________________________________________________________________\n"
     ]
    }
   ],
   "source": [
    "model9 = tuner.get_best_models(1)[0]\n",
    "model9.summary()"
   ]
  },
  {
   "cell_type": "code",
   "execution_count": 110,
   "metadata": {},
   "outputs": [],
   "source": [
    "y_pred = model9.predict(x_test)\n",
    "\n",
    "M9 =mean_squared_error(y_test, y_pred)"
   ]
  },
  {
   "cell_type": "code",
   "execution_count": 112,
   "metadata": {},
   "outputs": [
    {
     "data": {
      "text/html": [
       "<div>\n",
       "<style scoped>\n",
       "    .dataframe tbody tr th:only-of-type {\n",
       "        vertical-align: middle;\n",
       "    }\n",
       "\n",
       "    .dataframe tbody tr th {\n",
       "        vertical-align: top;\n",
       "    }\n",
       "\n",
       "    .dataframe thead th {\n",
       "        text-align: right;\n",
       "    }\n",
       "</style>\n",
       "<table border=\"1\" class=\"dataframe\">\n",
       "  <thead>\n",
       "    <tr style=\"text-align: right;\">\n",
       "      <th></th>\n",
       "      <th>MODEL</th>\n",
       "      <th>MSE</th>\n",
       "    </tr>\n",
       "  </thead>\n",
       "  <tbody>\n",
       "    <tr>\n",
       "      <th>0</th>\n",
       "      <td>Mean-based baseline</td>\n",
       "      <td>1.414214</td>\n",
       "    </tr>\n",
       "    <tr>\n",
       "      <th>1</th>\n",
       "      <td>TFIDF</td>\n",
       "      <td>1.006146</td>\n",
       "    </tr>\n",
       "    <tr>\n",
       "      <th>2</th>\n",
       "      <td>LOG-Reg</td>\n",
       "      <td>1.196488</td>\n",
       "    </tr>\n",
       "    <tr>\n",
       "      <th>3</th>\n",
       "      <td>SIMPLE-With-ACTIVATION</td>\n",
       "      <td>1.303524</td>\n",
       "    </tr>\n",
       "    <tr>\n",
       "      <th>4</th>\n",
       "      <td>SIMPLE-NO-ACTIVATION</td>\n",
       "      <td>4.407636</td>\n",
       "    </tr>\n",
       "    <tr>\n",
       "      <th>5</th>\n",
       "      <td>CNN-Simple-NO-ACTIVATION</td>\n",
       "      <td>0.922910</td>\n",
       "    </tr>\n",
       "    <tr>\n",
       "      <th>6</th>\n",
       "      <td>CNN-WITH-ACTIVATION</td>\n",
       "      <td>0.875534</td>\n",
       "    </tr>\n",
       "    <tr>\n",
       "      <th>7</th>\n",
       "      <td>LSTM-NO-ACTIVATION</td>\n",
       "      <td>0.690894</td>\n",
       "    </tr>\n",
       "    <tr>\n",
       "      <th>8</th>\n",
       "      <td>LSTM-WITH-ACTIVATION</td>\n",
       "      <td>0.689199</td>\n",
       "    </tr>\n",
       "    <tr>\n",
       "      <th>9</th>\n",
       "      <td>CNN_HP_NO_ACT</td>\n",
       "      <td>0.743151</td>\n",
       "    </tr>\n",
       "  </tbody>\n",
       "</table>\n",
       "</div>"
      ],
      "text/plain": [
       "                      MODEL       MSE\n",
       "0       Mean-based baseline  1.414214\n",
       "1                     TFIDF  1.006146\n",
       "2                   LOG-Reg  1.196488\n",
       "3    SIMPLE-With-ACTIVATION  1.303524\n",
       "4      SIMPLE-NO-ACTIVATION  4.407636\n",
       "5  CNN-Simple-NO-ACTIVATION  0.922910\n",
       "6       CNN-WITH-ACTIVATION  0.875534\n",
       "7        LSTM-NO-ACTIVATION  0.690894\n",
       "8      LSTM-WITH-ACTIVATION  0.689199\n",
       "9             CNN_HP_NO_ACT  0.743151"
      ]
     },
     "execution_count": 112,
     "metadata": {},
     "output_type": "execute_result"
    }
   ],
   "source": [
    "MSE.loc[9] = [\"CNN_HP_NO_ACT\"] + [M9]\n",
    "MSE"
   ]
  },
  {
   "cell_type": "code",
   "execution_count": null,
   "metadata": {},
   "outputs": [],
   "source": [
    "#tf.keras.models.save_model(cnn_model, './cnn_model')"
   ]
  },
  {
   "cell_type": "code",
   "execution_count": 168,
   "metadata": {},
   "outputs": [],
   "source": [
    "import shutil\n",
    "# shutil.make_archive('cnn_model.zip', 'zip', './cnn_model')"
   ]
  },
  {
   "cell_type": "markdown",
   "metadata": {},
   "source": [
    "#  10 CNN Searching hyperparameters With ACTivation"
   ]
  },
  {
   "cell_type": "code",
   "execution_count": 132,
   "metadata": {},
   "outputs": [],
   "source": [
    "def build_model(hp):\n",
    "    model = keras.Sequential()\n",
    "    model.add(keras.layers.Embedding(MAX_NUM_WORDS, 300, weights=[embedding_matrix],\n",
    "                          input_length=MAX_VECTOR_LEN, trainable=False))\n",
    "    for i in range(hp.Int('n_layers', 1,4)):\n",
    "        filters = hp.Int('filters_'+str(i), min_value=32,max_value=384,step=16)\n",
    "        kernel_size = hp.Int('filter_size_'+str(i),min_value=3,max_value=9,step=2)\n",
    "        pooling_size = hp.Int('pool_size_'+str(i),2,12, step=1)\n",
    "        \n",
    "        model.add(keras.layers.Conv1D(filters, kernel_size, activation='relu', padding='same'))\n",
    "        model.add(keras.layers.MaxPooling1D(pooling_size, padding='same'))\n",
    "    model.add(keras.layers.Flatten())\n",
    "    model.add(keras.layers.Dropout(hp.Float('dropout_rate', min_value=0.1,\n",
    "                                           max_value=0.9, step=0.1)))\n",
    "    model.add(keras.layers.Dense(hp.Int('dense_units', 16, 128, step=8)))\n",
    "    model.add(keras.layers.Dense(1))\n",
    "    model.add(keras.layers.Dense(1,activation=custom_activation))\n",
    "   # model.add(custom_activation)\n",
    "    model.compile(optimizer=keras.optimizers.Adam(\n",
    "        learning_rate = hp.Choice('lr',[0.005,0.001, 0.0001, 0.00001, 0.000001])),\n",
    "                  loss='mean_squared_error', metrics=['mean_squared_error'])\n",
    "    return model"
   ]
  },
  {
   "cell_type": "code",
   "execution_count": 114,
   "metadata": {},
   "outputs": [
    {
     "name": "stdout",
     "output_type": "stream",
     "text": [
      "Trial 5 Complete [00h 35m 08s]\n",
      "val_mean_squared_error: 0.7767731547355652\n",
      "\n",
      "Best val_mean_squared_error So Far: 0.7475697994232178\n",
      "Total elapsed time: 02h 08m 25s\n",
      "INFO:tensorflow:Oracle triggered exit\n"
     ]
    },
    {
     "name": "stderr",
     "output_type": "stream",
     "text": [
      "2021-05-01 01:59:48,186 : INFO : Oracle triggered exit\n"
     ]
    }
   ],
   "source": [
    "tuner = kt.BayesianOptimization(build_model, objective='val_mean_squared_error',\n",
    "                               max_trials=5,overwrite=True)\n",
    "tuner.search(x_train_smaller, y_train_smaller, epochs=15, validation_data=(x_val, y_val),\n",
    "            verbose=2)"
   ]
  },
  {
   "cell_type": "code",
   "execution_count": 115,
   "metadata": {},
   "outputs": [
    {
     "data": {
      "text/plain": [
       "{'n_layers': 4,\n",
       " 'filters_0': 336,\n",
       " 'filter_size_0': 7,\n",
       " 'pool_size_0': 7,\n",
       " 'dropout_rate': 0.8,\n",
       " 'dense_units': 64,\n",
       " 'lr': 0.0001,\n",
       " 'filters_1': 336,\n",
       " 'filter_size_1': 9,\n",
       " 'pool_size_1': 7,\n",
       " 'filters_2': 224,\n",
       " 'filter_size_2': 7,\n",
       " 'pool_size_2': 8,\n",
       " 'filters_3': 336,\n",
       " 'filter_size_3': 5,\n",
       " 'pool_size_3': 9}"
      ]
     },
     "execution_count": 115,
     "metadata": {},
     "output_type": "execute_result"
    }
   ],
   "source": [
    "tuner.get_best_hyperparameters(1)[0].values"
   ]
  },
  {
   "cell_type": "code",
   "execution_count": 116,
   "metadata": {},
   "outputs": [
    {
     "name": "stdout",
     "output_type": "stream",
     "text": [
      "Model: \"sequential\"\n",
      "_________________________________________________________________\n",
      "Layer (type)                 Output Shape              Param #   \n",
      "=================================================================\n",
      "embedding (Embedding)        (None, 150, 300)          3000000   \n",
      "_________________________________________________________________\n",
      "conv1d (Conv1D)              (None, 150, 336)          705936    \n",
      "_________________________________________________________________\n",
      "max_pooling1d (MaxPooling1D) (None, 22, 336)           0         \n",
      "_________________________________________________________________\n",
      "conv1d_1 (Conv1D)            (None, 22, 336)           1016400   \n",
      "_________________________________________________________________\n",
      "max_pooling1d_1 (MaxPooling1 (None, 4, 336)            0         \n",
      "_________________________________________________________________\n",
      "conv1d_2 (Conv1D)            (None, 4, 224)            527072    \n",
      "_________________________________________________________________\n",
      "max_pooling1d_2 (MaxPooling1 (None, 1, 224)            0         \n",
      "_________________________________________________________________\n",
      "conv1d_3 (Conv1D)            (None, 1, 336)            376656    \n",
      "_________________________________________________________________\n",
      "max_pooling1d_3 (MaxPooling1 (None, 1, 336)            0         \n",
      "_________________________________________________________________\n",
      "flatten (Flatten)            (None, 336)               0         \n",
      "_________________________________________________________________\n",
      "dropout (Dropout)            (None, 336)               0         \n",
      "_________________________________________________________________\n",
      "dense (Dense)                (None, 64)                21568     \n",
      "_________________________________________________________________\n",
      "dense_1 (Dense)              (None, 1)                 65        \n",
      "_________________________________________________________________\n",
      "dense_2 (Dense)              (None, 1)                 2         \n",
      "=================================================================\n",
      "Total params: 5,647,699\n",
      "Trainable params: 2,647,699\n",
      "Non-trainable params: 3,000,000\n",
      "_________________________________________________________________\n"
     ]
    }
   ],
   "source": [
    "model10 = tuner.get_best_models(1)[0]\n",
    "model10.summary()"
   ]
  },
  {
   "cell_type": "code",
   "execution_count": 117,
   "metadata": {},
   "outputs": [],
   "source": [
    "y_pred = model10.predict(x_test)\n",
    "M10 =mean_squared_error(y_test, y_pred)"
   ]
  },
  {
   "cell_type": "code",
   "execution_count": 143,
   "metadata": {},
   "outputs": [
    {
     "data": {
      "text/html": [
       "<div>\n",
       "<style scoped>\n",
       "    .dataframe tbody tr th:only-of-type {\n",
       "        vertical-align: middle;\n",
       "    }\n",
       "\n",
       "    .dataframe tbody tr th {\n",
       "        vertical-align: top;\n",
       "    }\n",
       "\n",
       "    .dataframe thead th {\n",
       "        text-align: right;\n",
       "    }\n",
       "</style>\n",
       "<table border=\"1\" class=\"dataframe\">\n",
       "  <thead>\n",
       "    <tr style=\"text-align: right;\">\n",
       "      <th></th>\n",
       "      <th>MODEL</th>\n",
       "      <th>MSE</th>\n",
       "    </tr>\n",
       "  </thead>\n",
       "  <tbody>\n",
       "    <tr>\n",
       "      <th>0</th>\n",
       "      <td>Mean-based baseline</td>\n",
       "      <td>1.414214</td>\n",
       "    </tr>\n",
       "    <tr>\n",
       "      <th>1</th>\n",
       "      <td>TFIDF</td>\n",
       "      <td>1.006146</td>\n",
       "    </tr>\n",
       "    <tr>\n",
       "      <th>2</th>\n",
       "      <td>LOG-Reg</td>\n",
       "      <td>1.196488</td>\n",
       "    </tr>\n",
       "    <tr>\n",
       "      <th>3</th>\n",
       "      <td>SIMPLE-With-ACTIVATION</td>\n",
       "      <td>1.303524</td>\n",
       "    </tr>\n",
       "    <tr>\n",
       "      <th>4</th>\n",
       "      <td>SIMPLE-NO-ACTIVATION</td>\n",
       "      <td>4.407636</td>\n",
       "    </tr>\n",
       "    <tr>\n",
       "      <th>5</th>\n",
       "      <td>CNN-Simple-NO-ACTIVATION</td>\n",
       "      <td>0.922910</td>\n",
       "    </tr>\n",
       "    <tr>\n",
       "      <th>6</th>\n",
       "      <td>CNN-WITH-ACTIVATION</td>\n",
       "      <td>0.875534</td>\n",
       "    </tr>\n",
       "    <tr>\n",
       "      <th>7</th>\n",
       "      <td>LSTM-NO-ACTIVATION</td>\n",
       "      <td>0.690894</td>\n",
       "    </tr>\n",
       "    <tr>\n",
       "      <th>8</th>\n",
       "      <td>LSTM-WITH-ACTIVATION</td>\n",
       "      <td>0.689199</td>\n",
       "    </tr>\n",
       "    <tr>\n",
       "      <th>9</th>\n",
       "      <td>CNN_HP_NO_ACT</td>\n",
       "      <td>0.743151</td>\n",
       "    </tr>\n",
       "    <tr>\n",
       "      <th>10</th>\n",
       "      <td>CNN_HP_WITH_ACT</td>\n",
       "      <td>0.739741</td>\n",
       "    </tr>\n",
       "    <tr>\n",
       "      <th>11</th>\n",
       "      <td>LSTM_HP_NO_ACT</td>\n",
       "      <td>0.649351</td>\n",
       "    </tr>\n",
       "    <tr>\n",
       "      <th>12</th>\n",
       "      <td>LSTM_HP_WITH_ACT</td>\n",
       "      <td>0.649351</td>\n",
       "    </tr>\n",
       "  </tbody>\n",
       "</table>\n",
       "</div>"
      ],
      "text/plain": [
       "                       MODEL       MSE\n",
       "0        Mean-based baseline  1.414214\n",
       "1                      TFIDF  1.006146\n",
       "2                    LOG-Reg  1.196488\n",
       "3     SIMPLE-With-ACTIVATION  1.303524\n",
       "4       SIMPLE-NO-ACTIVATION  4.407636\n",
       "5   CNN-Simple-NO-ACTIVATION  0.922910\n",
       "6        CNN-WITH-ACTIVATION  0.875534\n",
       "7         LSTM-NO-ACTIVATION  0.690894\n",
       "8       LSTM-WITH-ACTIVATION  0.689199\n",
       "9              CNN_HP_NO_ACT  0.743151\n",
       "10           CNN_HP_WITH_ACT  0.739741\n",
       "11            LSTM_HP_NO_ACT  0.649351\n",
       "12          LSTM_HP_WITH_ACT  0.649351"
      ]
     },
     "execution_count": 143,
     "metadata": {},
     "output_type": "execute_result"
    }
   ],
   "source": [
    "MSE.loc[10] = [\"CNN_HP_WITH_ACT\"] + [M10]\n",
    "MSE"
   ]
  },
  {
   "cell_type": "markdown",
   "metadata": {},
   "source": [
    "\n",
    "# 11 LSTM Searching hyperparameters NO ACTivation\n",
    "LSTM is variation of RNN which are more suited for extraction information from sequences (here, sequences of words). LSTM are often used in NLP problems, so let's check how it will work on our task."
   ]
  },
  {
   "cell_type": "code",
   "execution_count": 119,
   "metadata": {},
   "outputs": [],
   "source": [
    "def build_model(hp):\n",
    "    model = keras.Sequential()\n",
    "    model.add(keras.layers.Embedding(MAX_NUM_WORDS, 300, weights=[embedding_matrix],\n",
    "                          input_length=MAX_VECTOR_LEN, trainable=False))\n",
    "    model.add(keras.layers.LSTM(hp.Int('lstm_units', 32, 384, step=32)))\n",
    "    model.add(keras.layers.Dense(hp.Int('dense_units', 8, 128, step=8)))\n",
    "    model.add(keras.layers.Dropout(hp.Float('dropout_rate', min_value=0.1,\n",
    "                                           max_value=0.9, step=0.1)))\n",
    "#    model.add(keras.layers.Dense(1,activation=custom_activation))\n",
    "    model.add(keras.layers.Dense(1))\n",
    "    model.compile(optimizer=keras.optimizers.Adam(\n",
    "        learning_rate = hp.Choice('lr',[0.01, 0.005, 0.001, 0.0001, 0.00001, 0.000001])),\n",
    "                  loss='mean_squared_error', metrics=['mean_squared_error'])\n",
    "    return model"
   ]
  },
  {
   "cell_type": "code",
   "execution_count": 120,
   "metadata": {},
   "outputs": [
    {
     "name": "stdout",
     "output_type": "stream",
     "text": [
      "Trial 5 Complete [05h 34m 31s]\n",
      "val_mean_squared_error: 0.9396932721138\n",
      "\n",
      "Best val_mean_squared_error So Far: 0.6478176116943359\n",
      "Total elapsed time: 15h 52m 27s\n",
      "INFO:tensorflow:Oracle triggered exit\n"
     ]
    },
    {
     "name": "stderr",
     "output_type": "stream",
     "text": [
      "2021-05-01 17:52:32,916 : INFO : Oracle triggered exit\n"
     ]
    }
   ],
   "source": [
    "tuner = kt.BayesianOptimization(build_model, objective='val_mean_squared_error',\n",
    "                               max_trials=5,overwrite=True)\n",
    "tuner.search(x_train_smaller, y_train_smaller, epochs=20, validation_data=(x_val, y_val),\n",
    "            verbose=2)"
   ]
  },
  {
   "cell_type": "code",
   "execution_count": 121,
   "metadata": {},
   "outputs": [
    {
     "data": {
      "text/plain": [
       "{'lstm_units': 160, 'dense_units': 24, 'dropout_rate': 0.6, 'lr': 0.001}"
      ]
     },
     "execution_count": 121,
     "metadata": {},
     "output_type": "execute_result"
    }
   ],
   "source": [
    "tuner.get_best_hyperparameters(1)[0].values"
   ]
  },
  {
   "cell_type": "code",
   "execution_count": 122,
   "metadata": {},
   "outputs": [
    {
     "name": "stdout",
     "output_type": "stream",
     "text": [
      "Model: \"sequential\"\n",
      "_________________________________________________________________\n",
      "Layer (type)                 Output Shape              Param #   \n",
      "=================================================================\n",
      "embedding (Embedding)        (None, 150, 300)          3000000   \n",
      "_________________________________________________________________\n",
      "lstm (LSTM)                  (None, 160)               295040    \n",
      "_________________________________________________________________\n",
      "dense (Dense)                (None, 24)                3864      \n",
      "_________________________________________________________________\n",
      "dropout (Dropout)            (None, 24)                0         \n",
      "_________________________________________________________________\n",
      "dense_1 (Dense)              (None, 1)                 25        \n",
      "=================================================================\n",
      "Total params: 3,298,929\n",
      "Trainable params: 298,929\n",
      "Non-trainable params: 3,000,000\n",
      "_________________________________________________________________\n"
     ]
    }
   ],
   "source": [
    "model11 = tuner.get_best_models(1)[0]\n",
    "model11.summary()"
   ]
  },
  {
   "cell_type": "code",
   "execution_count": 140,
   "metadata": {},
   "outputs": [],
   "source": [
    "y_pred = model11.predict(x_test)\n",
    "M11 = mean_squared_error(y_test, y_pred)"
   ]
  },
  {
   "cell_type": "code",
   "execution_count": 141,
   "metadata": {},
   "outputs": [
    {
     "data": {
      "text/html": [
       "<div>\n",
       "<style scoped>\n",
       "    .dataframe tbody tr th:only-of-type {\n",
       "        vertical-align: middle;\n",
       "    }\n",
       "\n",
       "    .dataframe tbody tr th {\n",
       "        vertical-align: top;\n",
       "    }\n",
       "\n",
       "    .dataframe thead th {\n",
       "        text-align: right;\n",
       "    }\n",
       "</style>\n",
       "<table border=\"1\" class=\"dataframe\">\n",
       "  <thead>\n",
       "    <tr style=\"text-align: right;\">\n",
       "      <th></th>\n",
       "      <th>MODEL</th>\n",
       "      <th>MSE</th>\n",
       "    </tr>\n",
       "  </thead>\n",
       "  <tbody>\n",
       "    <tr>\n",
       "      <th>0</th>\n",
       "      <td>Mean-based baseline</td>\n",
       "      <td>1.414214</td>\n",
       "    </tr>\n",
       "    <tr>\n",
       "      <th>1</th>\n",
       "      <td>TFIDF</td>\n",
       "      <td>1.006146</td>\n",
       "    </tr>\n",
       "    <tr>\n",
       "      <th>2</th>\n",
       "      <td>LOG-Reg</td>\n",
       "      <td>1.196488</td>\n",
       "    </tr>\n",
       "    <tr>\n",
       "      <th>3</th>\n",
       "      <td>SIMPLE-With-ACTIVATION</td>\n",
       "      <td>1.303524</td>\n",
       "    </tr>\n",
       "    <tr>\n",
       "      <th>4</th>\n",
       "      <td>SIMPLE-NO-ACTIVATION</td>\n",
       "      <td>4.407636</td>\n",
       "    </tr>\n",
       "    <tr>\n",
       "      <th>5</th>\n",
       "      <td>CNN-Simple-NO-ACTIVATION</td>\n",
       "      <td>0.922910</td>\n",
       "    </tr>\n",
       "    <tr>\n",
       "      <th>6</th>\n",
       "      <td>CNN-WITH-ACTIVATION</td>\n",
       "      <td>0.875534</td>\n",
       "    </tr>\n",
       "    <tr>\n",
       "      <th>7</th>\n",
       "      <td>LSTM-NO-ACTIVATION</td>\n",
       "      <td>0.690894</td>\n",
       "    </tr>\n",
       "    <tr>\n",
       "      <th>8</th>\n",
       "      <td>LSTM-WITH-ACTIVATION</td>\n",
       "      <td>0.689199</td>\n",
       "    </tr>\n",
       "    <tr>\n",
       "      <th>9</th>\n",
       "      <td>CNN_HP_NO_ACT</td>\n",
       "      <td>0.743151</td>\n",
       "    </tr>\n",
       "    <tr>\n",
       "      <th>10</th>\n",
       "      <td>CNN_HP_WITH_ACT</td>\n",
       "      <td>0.739741</td>\n",
       "    </tr>\n",
       "    <tr>\n",
       "      <th>11</th>\n",
       "      <td>LSTM_HP_NO_ACT</td>\n",
       "      <td>0.649351</td>\n",
       "    </tr>\n",
       "    <tr>\n",
       "      <th>12</th>\n",
       "      <td>LSTM_HP_WITH_ACT</td>\n",
       "      <td>0.649351</td>\n",
       "    </tr>\n",
       "  </tbody>\n",
       "</table>\n",
       "</div>"
      ],
      "text/plain": [
       "                       MODEL       MSE\n",
       "0        Mean-based baseline  1.414214\n",
       "1                      TFIDF  1.006146\n",
       "2                    LOG-Reg  1.196488\n",
       "3     SIMPLE-With-ACTIVATION  1.303524\n",
       "4       SIMPLE-NO-ACTIVATION  4.407636\n",
       "5   CNN-Simple-NO-ACTIVATION  0.922910\n",
       "6        CNN-WITH-ACTIVATION  0.875534\n",
       "7         LSTM-NO-ACTIVATION  0.690894\n",
       "8       LSTM-WITH-ACTIVATION  0.689199\n",
       "9              CNN_HP_NO_ACT  0.743151\n",
       "10           CNN_HP_WITH_ACT  0.739741\n",
       "11            LSTM_HP_NO_ACT  0.649351\n",
       "12          LSTM_HP_WITH_ACT  0.649351"
      ]
     },
     "execution_count": 141,
     "metadata": {},
     "output_type": "execute_result"
    }
   ],
   "source": [
    "MSE.loc[11] = [\"LSTM_HP_NO_ACT\"] + [M11]\n",
    "MSE"
   ]
  },
  {
   "cell_type": "code",
   "execution_count": 125,
   "metadata": {},
   "outputs": [],
   "source": [
    "# tf.keras.models.save_model(cnn_model, './lstm_model')\n",
    "# shutil.make_archive('lstm_model.zip', 'zip', './lstm_model')"
   ]
  },
  {
   "cell_type": "markdown",
   "metadata": {},
   "source": [
    "#  12 LSTM Searching hyperparameters WITH ACTivation"
   ]
  },
  {
   "cell_type": "code",
   "execution_count": 133,
   "metadata": {},
   "outputs": [],
   "source": [
    "def build_model(hp):\n",
    "    model = keras.Sequential()\n",
    "    model.add(keras.layers.Embedding(MAX_NUM_WORDS, 300, weights=[embedding_matrix],\n",
    "                          input_length=MAX_VECTOR_LEN, trainable=False))\n",
    "    model.add(keras.layers.LSTM(hp.Int('lstm_units', 32, 384, step=32)))\n",
    "    model.add(keras.layers.Dense(hp.Int('dense_units', 8, 128, step=8)))\n",
    "    model.add(keras.layers.Dropout(hp.Float('dropout_rate', min_value=0.1,\n",
    "                                           max_value=0.9, step=0.1)))\n",
    "#    model.add(keras.layers.Dense(1,activation=custom_activation))\n",
    "    model.add(keras.layers.Dense(1,activation=custom_activation))\n",
    "    model.compile(optimizer=keras.optimizers.Adam(\n",
    "        learning_rate = hp.Choice('lr',[0.01, 0.005, 0.001, 0.0001, 0.00001, 0.000001])),\n",
    "                  loss='mean_squared_error', metrics=['mean_squared_error'])\n",
    "    return model"
   ]
  },
  {
   "cell_type": "code",
   "execution_count": 134,
   "metadata": {},
   "outputs": [
    {
     "name": "stdout",
     "output_type": "stream",
     "text": [
      "Trial 3 Complete [02h 45m 15s]\n",
      "val_mean_squared_error: 0.6429408192634583\n",
      "\n",
      "Best val_mean_squared_error So Far: 0.6429408192634583\n",
      "Total elapsed time: 03h 49m 25s\n",
      "INFO:tensorflow:Oracle triggered exit\n"
     ]
    },
    {
     "name": "stderr",
     "output_type": "stream",
     "text": [
      "2021-05-01 23:31:36,864 : INFO : Oracle triggered exit\n"
     ]
    }
   ],
   "source": [
    "tuner = kt.BayesianOptimization(build_model, objective='val_mean_squared_error',\n",
    "                               max_trials=3,overwrite=True)\n",
    "tuner.search(x_train_smaller, y_train_smaller, epochs=15, validation_data=(x_val, y_val),\n",
    "            verbose=2)"
   ]
  },
  {
   "cell_type": "code",
   "execution_count": 135,
   "metadata": {},
   "outputs": [
    {
     "data": {
      "text/plain": [
       "{'lstm_units': 256, 'dense_units': 16, 'dropout_rate': 0.4, 'lr': 0.0001}"
      ]
     },
     "execution_count": 135,
     "metadata": {},
     "output_type": "execute_result"
    }
   ],
   "source": [
    "tuner.get_best_hyperparameters(1)[0].values"
   ]
  },
  {
   "cell_type": "code",
   "execution_count": 136,
   "metadata": {},
   "outputs": [
    {
     "name": "stdout",
     "output_type": "stream",
     "text": [
      "Model: \"sequential\"\n",
      "_________________________________________________________________\n",
      "Layer (type)                 Output Shape              Param #   \n",
      "=================================================================\n",
      "embedding (Embedding)        (None, 150, 300)          3000000   \n",
      "_________________________________________________________________\n",
      "lstm (LSTM)                  (None, 256)               570368    \n",
      "_________________________________________________________________\n",
      "dense (Dense)                (None, 16)                4112      \n",
      "_________________________________________________________________\n",
      "dropout (Dropout)            (None, 16)                0         \n",
      "_________________________________________________________________\n",
      "dense_1 (Dense)              (None, 1)                 17        \n",
      "=================================================================\n",
      "Total params: 3,574,497\n",
      "Trainable params: 574,497\n",
      "Non-trainable params: 3,000,000\n",
      "_________________________________________________________________\n"
     ]
    }
   ],
   "source": [
    "model12 = tuner.get_best_models(1)[0]\n",
    "model12.summary()"
   ]
  },
  {
   "cell_type": "code",
   "execution_count": 137,
   "metadata": {},
   "outputs": [],
   "source": [
    "y_pred = model11.predict(x_test)\n",
    "M12 = mean_squared_error(y_test, y_pred)"
   ]
  },
  {
   "cell_type": "code",
   "execution_count": 173,
   "metadata": {},
   "outputs": [
    {
     "data": {
      "image/png": "[encoded data removed]",
      "text/plain": [
       "<Figure size 432x288 with 1 Axes>"
      ]
     },
     "metadata": {
      "needs_background": "light"
     },
     "output_type": "display_data"
    }
   ],
   "source": [
    "plt.plot(history.history['mean_squared_error'])\n",
    "plt.plot(history.history['val_mean_squared_error'])\n",
    "\n",
    "plt.title('model loss')\n",
    "plt.ylabel('loss')\n",
    "plt.xlabel('epoch')\n",
    "plt.legend(['train','val'], loc='upper left')\n",
    "plt.show()"
   ]
  },
  {
   "cell_type": "code",
   "execution_count": 166,
   "metadata": {},
   "outputs": [
    {
     "data": {
      "text/html": [
       "<div>\n",
       "<style scoped>\n",
       "    .dataframe tbody tr th:only-of-type {\n",
       "        vertical-align: middle;\n",
       "    }\n",
       "\n",
       "    .dataframe tbody tr th {\n",
       "        vertical-align: top;\n",
       "    }\n",
       "\n",
       "    .dataframe thead th {\n",
       "        text-align: right;\n",
       "    }\n",
       "</style>\n",
       "<table border=\"1\" class=\"dataframe\">\n",
       "  <thead>\n",
       "    <tr style=\"text-align: right;\">\n",
       "      <th></th>\n",
       "      <th>MODEL</th>\n",
       "      <th>MSE</th>\n",
       "    </tr>\n",
       "  </thead>\n",
       "  <tbody>\n",
       "    <tr>\n",
       "      <th>0</th>\n",
       "      <td>Mean-based baseline</td>\n",
       "      <td>1.414214</td>\n",
       "    </tr>\n",
       "    <tr>\n",
       "      <th>1</th>\n",
       "      <td>TFIDF</td>\n",
       "      <td>1.006146</td>\n",
       "    </tr>\n",
       "    <tr>\n",
       "      <th>2</th>\n",
       "      <td>LOG-Reg</td>\n",
       "      <td>1.196488</td>\n",
       "    </tr>\n",
       "    <tr>\n",
       "      <th>3</th>\n",
       "      <td>SIMPLE-With-ACTIVATION</td>\n",
       "      <td>1.303524</td>\n",
       "    </tr>\n",
       "    <tr>\n",
       "      <th>4</th>\n",
       "      <td>SIMPLE-NO-ACTIVATION</td>\n",
       "      <td>4.407636</td>\n",
       "    </tr>\n",
       "    <tr>\n",
       "      <th>5</th>\n",
       "      <td>CNN-Simple-NO-ACTIVATION</td>\n",
       "      <td>0.922910</td>\n",
       "    </tr>\n",
       "    <tr>\n",
       "      <th>6</th>\n",
       "      <td>CNN-WITH-ACTIVATION</td>\n",
       "      <td>0.875534</td>\n",
       "    </tr>\n",
       "    <tr>\n",
       "      <th>7</th>\n",
       "      <td>LSTM-NO-ACTIVATION</td>\n",
       "      <td>0.690894</td>\n",
       "    </tr>\n",
       "    <tr>\n",
       "      <th>8</th>\n",
       "      <td>LSTM-WITH-ACTIVATION</td>\n",
       "      <td>0.689199</td>\n",
       "    </tr>\n",
       "    <tr>\n",
       "      <th>9</th>\n",
       "      <td>CNN_HP_NO_ACT</td>\n",
       "      <td>0.743151</td>\n",
       "    </tr>\n",
       "    <tr>\n",
       "      <th>10</th>\n",
       "      <td>CNN_HP_WITH_ACT</td>\n",
       "      <td>0.739741</td>\n",
       "    </tr>\n",
       "    <tr>\n",
       "      <th>11</th>\n",
       "      <td>LSTM_HP_NO_ACT</td>\n",
       "      <td>0.649351</td>\n",
       "    </tr>\n",
       "    <tr>\n",
       "      <th>12</th>\n",
       "      <td>LSTM_HP_WITH_ACT</td>\n",
       "      <td>0.649351</td>\n",
       "    </tr>\n",
       "  </tbody>\n",
       "</table>\n",
       "</div>"
      ],
      "text/plain": [
       "                       MODEL       MSE\n",
       "0        Mean-based baseline  1.414214\n",
       "1                      TFIDF  1.006146\n",
       "2                    LOG-Reg  1.196488\n",
       "3     SIMPLE-With-ACTIVATION  1.303524\n",
       "4       SIMPLE-NO-ACTIVATION  4.407636\n",
       "5   CNN-Simple-NO-ACTIVATION  0.922910\n",
       "6        CNN-WITH-ACTIVATION  0.875534\n",
       "7         LSTM-NO-ACTIVATION  0.690894\n",
       "8       LSTM-WITH-ACTIVATION  0.689199\n",
       "9              CNN_HP_NO_ACT  0.743151\n",
       "10           CNN_HP_WITH_ACT  0.739741\n",
       "11            LSTM_HP_NO_ACT  0.649351\n",
       "12          LSTM_HP_WITH_ACT  0.649351"
      ]
     },
     "execution_count": 166,
     "metadata": {},
     "output_type": "execute_result"
    }
   ],
   "source": [
    "MSE.loc[12] = [\"LSTM_HP_WITH_ACT\"] + [M12]\n",
    "MSE"
   ]
  },
  {
   "cell_type": "code",
   "execution_count": 169,
   "metadata": {},
   "outputs": [
    {
     "name": "stderr",
     "output_type": "stream",
     "text": [
      "2021-05-02 00:10:45,147 : WARNING : Found untraced functions such as lstm_cell_layer_call_and_return_conditional_losses, lstm_cell_layer_call_fn, lstm_cell_layer_call_fn, lstm_cell_layer_call_and_return_conditional_losses, lstm_cell_layer_call_and_return_conditional_losses while saving (showing 5 of 5). These functions will not be directly callable after loading.\n",
      "2021-05-02 00:10:45,188 : WARNING : Found untraced functions such as lstm_cell_layer_call_and_return_conditional_losses, lstm_cell_layer_call_fn, lstm_cell_layer_call_fn, lstm_cell_layer_call_and_return_conditional_losses, lstm_cell_layer_call_and_return_conditional_losses while saving (showing 5 of 5). These functions will not be directly callable after loading.\n"
     ]
    },
    {
     "name": "stdout",
     "output_type": "stream",
     "text": [
      "INFO:tensorflow:Assets written to: ./lstm_model\\assets\n"
     ]
    },
    {
     "name": "stderr",
     "output_type": "stream",
     "text": [
      "2021-05-02 00:10:45,606 : INFO : Assets written to: ./lstm_model\\assets\n"
     ]
    },
    {
     "data": {
      "text/plain": [
       "'C:\\\\Users\\\\alita\\\\Desktop\\\\MLProject\\\\TypeA_Review_Crystal_Ball\\\\TypeA_Review_Crystal_Ball\\\\lstm_model.zip.zip'"
      ]
     },
     "execution_count": 169,
     "metadata": {},
     "output_type": "execute_result"
    }
   ],
   "source": [
    "tf.keras.models.save_model(model12, './lstm_model')\n",
    "shutil.make_archive('lstm_model.zip', 'zip', './lstm_model')"
   ]
  },
  {
   "cell_type": "markdown",
   "metadata": {},
   "source": [
    "# Predict"
   ]
  },
  {
   "cell_type": "code",
   "execution_count": 145,
   "metadata": {},
   "outputs": [],
   "source": [
    "raw = pd.read_csv('Test.csv')\n",
    "def preprocess_text(text):\n",
    "    text = text.lower()\n",
    "    text = re.sub(r\"n't\", ' not', text)\n",
    "    text = re.sub(r\"\\W|[\\r\\n]+\", ' ', text) # remove not-words and newlines\n",
    "    text = re.sub(r\"\\s{2,}\", ' ', text) # remove '.', ',' and doubled whitespaces\n",
    "    \n",
    "    tokenized = [word for word in text.split() if word not in stopwords.words('english')] # remove stopwords\n",
    "    text = ' '.join(tokenized)\n",
    "    return text\n",
    "dft = raw\n",
    "dft['Review'] = dft['reviewText'] + dft[\"summary\"]\n",
    "\n",
    "\n",
    "dft['Review'] = dft['Review'].map(preprocess_text)\n",
    "#dft['Review_length'] = dft['reviewText'].map(lambda x: len(x.split()))"
   ]
  },
  {
   "cell_type": "code",
   "execution_count": 151,
   "metadata": {},
   "outputs": [
    {
     "data": {
      "text/html": [
       "<div>\n",
       "<style scoped>\n",
       "    .dataframe tbody tr th:only-of-type {\n",
       "        vertical-align: middle;\n",
       "    }\n",
       "\n",
       "    .dataframe tbody tr th {\n",
       "        vertical-align: top;\n",
       "    }\n",
       "\n",
       "    .dataframe thead th {\n",
       "        text-align: right;\n",
       "    }\n",
       "</style>\n",
       "<table border=\"1\" class=\"dataframe\">\n",
       "  <thead>\n",
       "    <tr style=\"text-align: right;\">\n",
       "      <th></th>\n",
       "      <th>ProductID</th>\n",
       "      <th>Rating</th>\n",
       "      <th>Review</th>\n",
       "      <th>Review_length</th>\n",
       "    </tr>\n",
       "  </thead>\n",
       "  <tbody>\n",
       "    <tr>\n",
       "      <th>0</th>\n",
       "      <td>B00BO2AAOE</td>\n",
       "      <td>5</td>\n",
       "      <td>fell love cover book looked enchanting found b...</td>\n",
       "      <td>179</td>\n",
       "    </tr>\n",
       "    <tr>\n",
       "      <th>1</th>\n",
       "      <td>B00H0V05AM</td>\n",
       "      <td>3</td>\n",
       "      <td>good short novel seem much passion use c arthu...</td>\n",
       "      <td>39</td>\n",
       "    </tr>\n",
       "    <tr>\n",
       "      <th>2</th>\n",
       "      <td>B00HWHZOA0</td>\n",
       "      <td>3</td>\n",
       "      <td>yesterday waiting receive borrowed book little...</td>\n",
       "      <td>130</td>\n",
       "    </tr>\n",
       "    <tr>\n",
       "      <th>3</th>\n",
       "      <td>B00H9GMPYM</td>\n",
       "      <td>1</td>\n",
       "      <td>drags new one last page waste time could skipp...</td>\n",
       "      <td>21</td>\n",
       "    </tr>\n",
       "    <tr>\n",
       "      <th>4</th>\n",
       "      <td>B00A9NYDV0</td>\n",
       "      <td>3</td>\n",
       "      <td>set pretty snapshots seen better pictures colo...</td>\n",
       "      <td>50</td>\n",
       "    </tr>\n",
       "    <tr>\n",
       "      <th>...</th>\n",
       "      <td>...</td>\n",
       "      <td>...</td>\n",
       "      <td>...</td>\n",
       "      <td>...</td>\n",
       "    </tr>\n",
       "    <tr>\n",
       "      <th>10245</th>\n",
       "      <td>B00B92ZIKU</td>\n",
       "      <td>2</td>\n",
       "      <td>book strange concept interesting really catch ...</td>\n",
       "      <td>26</td>\n",
       "    </tr>\n",
       "    <tr>\n",
       "      <th>10246</th>\n",
       "      <td>B00CF75HDQ</td>\n",
       "      <td>2</td>\n",
       "      <td>beck call quite box novel based dominatrix lif...</td>\n",
       "      <td>128</td>\n",
       "    </tr>\n",
       "    <tr>\n",
       "      <th>10247</th>\n",
       "      <td>B00HFHKK1K</td>\n",
       "      <td>4</td>\n",
       "      <td>enjoyed political thriller set balkan conflict...</td>\n",
       "      <td>89</td>\n",
       "    </tr>\n",
       "    <tr>\n",
       "      <th>10248</th>\n",
       "      <td>B00CTSNQMU</td>\n",
       "      <td>4</td>\n",
       "      <td>finished firecracker heat liked trixie cy cute...</td>\n",
       "      <td>217</td>\n",
       "    </tr>\n",
       "    <tr>\n",
       "      <th>10249</th>\n",
       "      <td>B00GGKMYGQ</td>\n",
       "      <td>5</td>\n",
       "      <td>whoopie pie secrets rebecca price gem amish st...</td>\n",
       "      <td>180</td>\n",
       "    </tr>\n",
       "  </tbody>\n",
       "</table>\n",
       "<p>10250 rows × 4 columns</p>\n",
       "</div>"
      ],
      "text/plain": [
       "        ProductID  Rating                                             Review  \\\n",
       "0      B00BO2AAOE       5  fell love cover book looked enchanting found b...   \n",
       "1      B00H0V05AM       3  good short novel seem much passion use c arthu...   \n",
       "2      B00HWHZOA0       3  yesterday waiting receive borrowed book little...   \n",
       "3      B00H9GMPYM       1  drags new one last page waste time could skipp...   \n",
       "4      B00A9NYDV0       3  set pretty snapshots seen better pictures colo...   \n",
       "...           ...     ...                                                ...   \n",
       "10245  B00B92ZIKU       2  book strange concept interesting really catch ...   \n",
       "10246  B00CF75HDQ       2  beck call quite box novel based dominatrix lif...   \n",
       "10247  B00HFHKK1K       4  enjoyed political thriller set balkan conflict...   \n",
       "10248  B00CTSNQMU       4  finished firecracker heat liked trixie cy cute...   \n",
       "10249  B00GGKMYGQ       5  whoopie pie secrets rebecca price gem amish st...   \n",
       "\n",
       "       Review_length  \n",
       "0                179  \n",
       "1                 39  \n",
       "2                130  \n",
       "3                 21  \n",
       "4                 50  \n",
       "...              ...  \n",
       "10245             26  \n",
       "10246            128  \n",
       "10247             89  \n",
       "10248            217  \n",
       "10249            180  \n",
       "\n",
       "[10250 rows x 4 columns]"
      ]
     },
     "execution_count": 151,
     "metadata": {},
     "output_type": "execute_result"
    }
   ],
   "source": [
    "dft.drop([\"reviewText\",\"reviewTime\",\"reviewerID\",\"summary\"], axis = 1)"
   ]
  },
  {
   "cell_type": "code",
   "execution_count": 152,
   "metadata": {},
   "outputs": [],
   "source": [
    "\n",
    "x_t = dft['Review']\n",
    "y_t = dft[\"Rating\"]\n",
    "tokenizer = Tokenizer(num_words=MAX_NUM_WORDS)\n",
    "tokenizer.fit_on_texts(a)\n",
    "\n",
    "\n",
    "x_t = tokenizer.texts_to_sequences(x_t)\n",
    "\n",
    "\n",
    "\n",
    "x_t = pad_sequences(x_t, padding='post', maxlen=MAX_VECTOR_LEN)"
   ]
  },
  {
   "cell_type": "code",
   "execution_count": 153,
   "metadata": {},
   "outputs": [
    {
     "data": {
      "text/plain": [
       "1.3289242329232298"
      ]
     },
     "execution_count": 153,
     "metadata": {},
     "output_type": "execute_result"
    }
   ],
   "source": [
    "y_pred = model3.predict(x_t)\n",
    "y_pred[y_pred>5] =5\n",
    "y_pred[y_pred<=1] =1\n",
    "mean_squared_error(y_t, y_pred)"
   ]
  },
  {
   "cell_type": "code",
   "execution_count": 154,
   "metadata": {},
   "outputs": [
    {
     "data": {
      "text/plain": [
       "2.1093038308320717"
      ]
     },
     "execution_count": 154,
     "metadata": {},
     "output_type": "execute_result"
    }
   ],
   "source": [
    "y_pred = model4.predict(x_t)\n",
    "y_pred[y_pred>5] =5\n",
    "y_pred[y_pred<=1] =1\n",
    "mean_squared_error(y_t, y_pred)"
   ]
  },
  {
   "cell_type": "code",
   "execution_count": 157,
   "metadata": {},
   "outputs": [
    {
     "data": {
      "text/plain": [
       "0.8762943187950439"
      ]
     },
     "execution_count": 157,
     "metadata": {},
     "output_type": "execute_result"
    }
   ],
   "source": [
    "y_pred = model5.predict(x_t)\n",
    "y_pred[y_pred>5] =5\n",
    "y_pred[y_pred<=1] =1\n",
    "mean_squared_error(y_t, y_pred)"
   ]
  },
  {
   "cell_type": "code",
   "execution_count": 158,
   "metadata": {},
   "outputs": [
    {
     "data": {
      "text/plain": [
       "0.8590734623687785"
      ]
     },
     "execution_count": 158,
     "metadata": {},
     "output_type": "execute_result"
    }
   ],
   "source": [
    "y_pred = model6.predict(x_t)\n",
    "y_pred[y_pred>5] =5\n",
    "y_pred[y_pred<=1] =1\n",
    "mean_squared_error(y_t, y_pred)"
   ]
  },
  {
   "cell_type": "code",
   "execution_count": 159,
   "metadata": {},
   "outputs": [
    {
     "data": {
      "text/plain": [
       "0.7042983293603089"
      ]
     },
     "execution_count": 159,
     "metadata": {},
     "output_type": "execute_result"
    }
   ],
   "source": [
    "y_pred = model7.predict(x_t)\n",
    "y_pred[y_pred>5] =5\n",
    "y_pred[y_pred<=1] =1\n",
    "mean_squared_error(y_t, y_pred)"
   ]
  },
  {
   "cell_type": "code",
   "execution_count": 160,
   "metadata": {},
   "outputs": [
    {
     "data": {
      "text/plain": [
       "0.6923027910634606"
      ]
     },
     "execution_count": 160,
     "metadata": {},
     "output_type": "execute_result"
    }
   ],
   "source": [
    "y_pred = model8.predict(x_t)\n",
    "y_pred[y_pred>5] =5\n",
    "y_pred[y_pred<=1] =1\n",
    "mean_squared_error(y_t, y_pred)"
   ]
  },
  {
   "cell_type": "code",
   "execution_count": 161,
   "metadata": {},
   "outputs": [
    {
     "data": {
      "text/plain": [
       "0.7324647615258044"
      ]
     },
     "execution_count": 161,
     "metadata": {},
     "output_type": "execute_result"
    }
   ],
   "source": [
    "y_pred = model9.predict(x_t)\n",
    "y_pred[y_pred>5] =5\n",
    "y_pred[y_pred<=1] =1\n",
    "mean_squared_error(y_t, y_pred)"
   ]
  },
  {
   "cell_type": "code",
   "execution_count": 162,
   "metadata": {},
   "outputs": [
    {
     "data": {
      "text/plain": [
       "0.7461432419481674"
      ]
     },
     "execution_count": 162,
     "metadata": {},
     "output_type": "execute_result"
    }
   ],
   "source": [
    "y_pred = model10.predict(x_t)\n",
    "y_pred[y_pred>5] =5\n",
    "y_pred[y_pred<=1] =1\n",
    "mean_squared_error(y_t, y_pred)"
   ]
  },
  {
   "cell_type": "code",
   "execution_count": 163,
   "metadata": {},
   "outputs": [
    {
     "data": {
      "text/plain": [
       "0.6631409682385659"
      ]
     },
     "execution_count": 163,
     "metadata": {},
     "output_type": "execute_result"
    }
   ],
   "source": [
    "y_pred = model11.predict(x_t)\n",
    "y_pred[y_pred>5] =5\n",
    "y_pred[y_pred<=1] =1\n",
    "mean_squared_error(y_t, y_pred)"
   ]
  },
  {
   "cell_type": "code",
   "execution_count": 165,
   "metadata": {},
   "outputs": [
    {
     "data": {
      "text/plain": [
       "0.641590153639437"
      ]
     },
     "execution_count": 165,
     "metadata": {},
     "output_type": "execute_result"
    }
   ],
   "source": [
    "y_pred = model12.predict(x_t)\n",
    "# y_pred[y_pred>5] =5\n",
    "# y_pred[y_pred<=1] =1\n",
    "mean_squared_error(y_t, y_pred)"
   ]
  },
  {
   "cell_type": "code",
   "execution_count": 170,
   "metadata": {},
   "outputs": [],
   "source": [
    "raw[\"predict\"] = y_pred"
   ]
  },
  {
   "cell_type": "code",
   "execution_count": 171,
   "metadata": {},
   "outputs": [],
   "source": [
    "raw.to_csv('Predict.csv', encoding='utf-8')"
   ]
  },
  {
   "cell_type": "code",
   "execution_count": 172,
   "metadata": {},
   "outputs": [
    {
     "data": {
      "text/html": [
       "<div>\n",
       "<style scoped>\n",
       "    .dataframe tbody tr th:only-of-type {\n",
       "        vertical-align: middle;\n",
       "    }\n",
       "\n",
       "    .dataframe tbody tr th {\n",
       "        vertical-align: top;\n",
       "    }\n",
       "\n",
       "    .dataframe thead th {\n",
       "        text-align: right;\n",
       "    }\n",
       "</style>\n",
       "<table border=\"1\" class=\"dataframe\">\n",
       "  <thead>\n",
       "    <tr style=\"text-align: right;\">\n",
       "      <th></th>\n",
       "      <th>ProductID</th>\n",
       "      <th>reviewText</th>\n",
       "      <th>reviewTime</th>\n",
       "      <th>reviewerID</th>\n",
       "      <th>summary</th>\n",
       "      <th>Rating</th>\n",
       "      <th>Review</th>\n",
       "      <th>Review_length</th>\n",
       "      <th>predict</th>\n",
       "    </tr>\n",
       "  </thead>\n",
       "  <tbody>\n",
       "    <tr>\n",
       "      <th>0</th>\n",
       "      <td>B00BO2AAOE</td>\n",
       "      <td>I fell in love with the cover of this book, it...</td>\n",
       "      <td>17-Feb-46</td>\n",
       "      <td>A1K97SVHGTBP0E</td>\n",
       "      <td>Beautiful little book</td>\n",
       "      <td>5</td>\n",
       "      <td>fell love cover book looked enchanting found b...</td>\n",
       "      <td>179</td>\n",
       "      <td>3.884378</td>\n",
       "    </tr>\n",
       "    <tr>\n",
       "      <th>1</th>\n",
       "      <td>B00H0V05AM</td>\n",
       "      <td>It was a good short novel. It just didn't  see...</td>\n",
       "      <td>22-Aug-46</td>\n",
       "      <td>A2QPY7AWL38XY8</td>\n",
       "      <td>Not as much of the passion...</td>\n",
       "      <td>3</td>\n",
       "      <td>good short novel seem much passion use c arthu...</td>\n",
       "      <td>39</td>\n",
       "      <td>2.889824</td>\n",
       "    </tr>\n",
       "    <tr>\n",
       "      <th>2</th>\n",
       "      <td>B00HWHZOA0</td>\n",
       "      <td>Yesterday, I was waiting to receive a borrowed...</td>\n",
       "      <td>17-Apr-48</td>\n",
       "      <td>A2TNY4OUWVTJ0F</td>\n",
       "      <td>NOT MUCH TO WORK WITH BUT IT WAS CUTE...</td>\n",
       "      <td>3</td>\n",
       "      <td>yesterday waiting receive borrowed book little...</td>\n",
       "      <td>130</td>\n",
       "      <td>3.037555</td>\n",
       "    </tr>\n",
       "    <tr>\n",
       "      <th>3</th>\n",
       "      <td>B00H9GMPYM</td>\n",
       "      <td>Same drags on.  The only New to this one is th...</td>\n",
       "      <td>28-Jun-46</td>\n",
       "      <td>A39WYE2YM9GPX4</td>\n",
       "      <td>REALLY lame</td>\n",
       "      <td>1</td>\n",
       "      <td>drags new one last page waste time could skipp...</td>\n",
       "      <td>21</td>\n",
       "      <td>1.195877</td>\n",
       "    </tr>\n",
       "    <tr>\n",
       "      <th>4</th>\n",
       "      <td>B00A9NYDV0</td>\n",
       "      <td>A set of pretty snapshots, but I've seen bette...</td>\n",
       "      <td>28-Jul-46</td>\n",
       "      <td>ACJ6AI4DTHHO8</td>\n",
       "      <td>Just Snapshots</td>\n",
       "      <td>3</td>\n",
       "      <td>set pretty snapshots seen better pictures colo...</td>\n",
       "      <td>50</td>\n",
       "      <td>1.655985</td>\n",
       "    </tr>\n",
       "    <tr>\n",
       "      <th>...</th>\n",
       "      <td>...</td>\n",
       "      <td>...</td>\n",
       "      <td>...</td>\n",
       "      <td>...</td>\n",
       "      <td>...</td>\n",
       "      <td>...</td>\n",
       "      <td>...</td>\n",
       "      <td>...</td>\n",
       "      <td>...</td>\n",
       "    </tr>\n",
       "    <tr>\n",
       "      <th>10245</th>\n",
       "      <td>B00B92ZIKU</td>\n",
       "      <td>This book was very strange. The concept was in...</td>\n",
       "      <td>23-Jun-45</td>\n",
       "      <td>ADO2WO1WV0KV5</td>\n",
       "      <td>Could have been better</td>\n",
       "      <td>2</td>\n",
       "      <td>book strange concept interesting really catch ...</td>\n",
       "      <td>26</td>\n",
       "      <td>1.816872</td>\n",
       "    </tr>\n",
       "    <tr>\n",
       "      <th>10246</th>\n",
       "      <td>B00CF75HDQ</td>\n",
       "      <td>At Her Beck and Call is quite an \"out of the b...</td>\n",
       "      <td>26-Oct-45</td>\n",
       "      <td>A3OH40OUL0PF85</td>\n",
       "      <td>Fast read</td>\n",
       "      <td>2</td>\n",
       "      <td>beck call quite box novel based dominatrix lif...</td>\n",
       "      <td>128</td>\n",
       "      <td>3.173508</td>\n",
       "    </tr>\n",
       "    <tr>\n",
       "      <th>10247</th>\n",
       "      <td>B00HFHKK1K</td>\n",
       "      <td>I enjoyed this political thriller set during t...</td>\n",
       "      <td>22-Mar-46</td>\n",
       "      <td>A374E849SQ2DB1</td>\n",
       "      <td>Fast-paced with good twists to keep you reading</td>\n",
       "      <td>4</td>\n",
       "      <td>enjoyed political thriller set balkan conflict...</td>\n",
       "      <td>89</td>\n",
       "      <td>3.679081</td>\n",
       "    </tr>\n",
       "    <tr>\n",
       "      <th>10248</th>\n",
       "      <td>B00CTSNQMU</td>\n",
       "      <td>I just finished Firecracker in Heat and I like...</td>\n",
       "      <td>28-Aug-45</td>\n",
       "      <td>A2XWNFCQ9U8N3S</td>\n",
       "      <td>Liked it</td>\n",
       "      <td>4</td>\n",
       "      <td>finished firecracker heat liked trixie cy cute...</td>\n",
       "      <td>217</td>\n",
       "      <td>3.640111</td>\n",
       "    </tr>\n",
       "    <tr>\n",
       "      <th>10249</th>\n",
       "      <td>B00GGKMYGQ</td>\n",
       "      <td>Whoopie Pie Secrets by Rebecca Price is a gem....</td>\n",
       "      <td>27-Sep-45</td>\n",
       "      <td>A37LY77Q2YPJVL</td>\n",
       "      <td>WOW! What Else Can I Say???</td>\n",
       "      <td>5</td>\n",
       "      <td>whoopie pie secrets rebecca price gem amish st...</td>\n",
       "      <td>180</td>\n",
       "      <td>4.765968</td>\n",
       "    </tr>\n",
       "  </tbody>\n",
       "</table>\n",
       "<p>10250 rows × 9 columns</p>\n",
       "</div>"
      ],
      "text/plain": [
       "        ProductID                                         reviewText  \\\n",
       "0      B00BO2AAOE  I fell in love with the cover of this book, it...   \n",
       "1      B00H0V05AM  It was a good short novel. It just didn't  see...   \n",
       "2      B00HWHZOA0  Yesterday, I was waiting to receive a borrowed...   \n",
       "3      B00H9GMPYM  Same drags on.  The only New to this one is th...   \n",
       "4      B00A9NYDV0  A set of pretty snapshots, but I've seen bette...   \n",
       "...           ...                                                ...   \n",
       "10245  B00B92ZIKU  This book was very strange. The concept was in...   \n",
       "10246  B00CF75HDQ  At Her Beck and Call is quite an \"out of the b...   \n",
       "10247  B00HFHKK1K  I enjoyed this political thriller set during t...   \n",
       "10248  B00CTSNQMU  I just finished Firecracker in Heat and I like...   \n",
       "10249  B00GGKMYGQ  Whoopie Pie Secrets by Rebecca Price is a gem....   \n",
       "\n",
       "      reviewTime      reviewerID  \\\n",
       "0      17-Feb-46  A1K97SVHGTBP0E   \n",
       "1      22-Aug-46  A2QPY7AWL38XY8   \n",
       "2      17-Apr-48  A2TNY4OUWVTJ0F   \n",
       "3      28-Jun-46  A39WYE2YM9GPX4   \n",
       "4      28-Jul-46   ACJ6AI4DTHHO8   \n",
       "...          ...             ...   \n",
       "10245  23-Jun-45   ADO2WO1WV0KV5   \n",
       "10246  26-Oct-45  A3OH40OUL0PF85   \n",
       "10247  22-Mar-46  A374E849SQ2DB1   \n",
       "10248  28-Aug-45  A2XWNFCQ9U8N3S   \n",
       "10249  27-Sep-45  A37LY77Q2YPJVL   \n",
       "\n",
       "                                               summary  Rating  \\\n",
       "0                                Beautiful little book       5   \n",
       "1                        Not as much of the passion...       3   \n",
       "2             NOT MUCH TO WORK WITH BUT IT WAS CUTE...       3   \n",
       "3                                          REALLY lame       1   \n",
       "4                                       Just Snapshots       3   \n",
       "...                                                ...     ...   \n",
       "10245                           Could have been better       2   \n",
       "10246                                        Fast read       2   \n",
       "10247  Fast-paced with good twists to keep you reading       4   \n",
       "10248                                         Liked it       4   \n",
       "10249                      WOW! What Else Can I Say???       5   \n",
       "\n",
       "                                                  Review  Review_length  \\\n",
       "0      fell love cover book looked enchanting found b...            179   \n",
       "1      good short novel seem much passion use c arthu...             39   \n",
       "2      yesterday waiting receive borrowed book little...            130   \n",
       "3      drags new one last page waste time could skipp...             21   \n",
       "4      set pretty snapshots seen better pictures colo...             50   \n",
       "...                                                  ...            ...   \n",
       "10245  book strange concept interesting really catch ...             26   \n",
       "10246  beck call quite box novel based dominatrix lif...            128   \n",
       "10247  enjoyed political thriller set balkan conflict...             89   \n",
       "10248  finished firecracker heat liked trixie cy cute...            217   \n",
       "10249  whoopie pie secrets rebecca price gem amish st...            180   \n",
       "\n",
       "        predict  \n",
       "0      3.884378  \n",
       "1      2.889824  \n",
       "2      3.037555  \n",
       "3      1.195877  \n",
       "4      1.655985  \n",
       "...         ...  \n",
       "10245  1.816872  \n",
       "10246  3.173508  \n",
       "10247  3.679081  \n",
       "10248  3.640111  \n",
       "10249  4.765968  \n",
       "\n",
       "[10250 rows x 9 columns]"
      ]
     },
     "execution_count": 172,
     "metadata": {},
     "output_type": "execute_result"
    }
   ],
   "source": [
    "raw"
   ]
  }
 ],
 "metadata": {
  "kernelspec": {
   "display_name": "Python 3",
   "language": "python",
   "name": "python3"
  },
  "language_info": {
   "codemirror_mode": {
    "name": "ipython",
    "version": 3
   },
   "file_extension": ".py",
   "mimetype": "text/x-python",
   "name": "python",
   "nbconvert_exporter": "python",
   "pygments_lexer": "ipython3",
   "version": "3.7.7"
  }
 },
 "nbformat": 4,
 "nbformat_minor": 4
}
